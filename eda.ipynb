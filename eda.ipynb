{
 "cells": [
  {
   "cell_type": "markdown",
   "metadata": {},
   "source": [
    "# Proyecto individual de DA: Gaming"
   ]
  },
  {
   "cell_type": "markdown",
   "metadata": {},
   "source": [
    "## 1. Objetivo de negocio:\n",
    "Grupo inversor está dispuesto a invertir en el desarrollo de nuevos productos, para ello, nos solicitar lo siguietne:\n",
    "* Analizar el mercado de videojuegos.\n",
    "* Identificar posibles nichos para desarrollar nuevos productos.\n",
    "* Encontrar los insights y presentarlos."
   ]
  },
  {
   "cell_type": "markdown",
   "metadata": {},
   "source": [
    "### Preguntas a considerar y responder\n",
    "\n",
    "* ¿Qué análisis podemos hacer del mercado actual?\n",
    "* ¿Qué lineamientos generales deberá tener en cuenta el grupo inversor a la hora de determinar el primer juego de la empresa, para lograr aprovechar al máximo las tendencias del mercado, y así lograr el objetivo planteado?\n",
    "* ¿Qué diferencias encontramos entre las distintas plataformas?\n",
    "* ¿Qué relación podemos considerar en cuanto a la población e ingresos per cápita de los países? \n",
    "* ¿En qué regiones conviene enfocarse?\n",
    "* ¿Podemos determinar algo con respecto a los rangos etarios u otras características demográficas?\n",
    "* ¿Podemos estimar las ventas de los juegos actuales o al menos de una categoría? Shooters por ejemplo."
   ]
  },
  {
   "cell_type": "markdown",
   "metadata": {},
   "source": [
    "### Dataset a utilizar\n",
    "| Archivos:\n",
    "| ------ \n",
    "| Indicadores_del_desarrollo_humano_mundial Banco Mundial Indicadores de desarrollo humano. \n",
    "| Console_sales Reporte de ventas anuales de consolas. por marca y modelo. \n",
    "| Juegos en steam. Reporte con estadísticas de uso de juegos en Steam. Incluye recomendaciones  tiempo de uso, etc. \n",
    "| Video Games Sales Reporte de ventas por Video Juego y Plataforma. Incluye ranking y apertura por mercados (NA, EU, Japón y Global). "
   ]
  },
  {
   "cell_type": "markdown",
   "metadata": {},
   "source": [
    "## Fases de trabajo\n",
    "1. Análisis exploratorio de datos para determinar las transformaciones de variables apropiadas, identificar patrones, y conclusiones.\n",
    "2. Construir KPIs que se integren con el dashboard:\n",
    "   1.  *Aumentar en un 2% el acceso al servicio de internet para el próximo trimestre, cada 100 hogares, por provincia.*\n",
    "3. Construir un dashboard interactivo, funcional utilizando filtros adecuados.\n",
    "4. Generar un readme.md que describa el desarrollo del proyecto y sus correspondientes conclusiones.\n",
    "5. Narrar un storytelling en 10'."
   ]
  },
  {
   "cell_type": "markdown",
   "metadata": {},
   "source": [
    "1.1. Importar Librería"
   ]
  },
  {
   "cell_type": "code",
   "execution_count": null,
   "metadata": {},
   "outputs": [],
   "source": []
  }
 ],
 "metadata": {
  "language_info": {
   "name": "python"
  }
 },
 "nbformat": 4,
 "nbformat_minor": 2
}
