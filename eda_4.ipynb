{
  "cells": [
    {
      "cell_type": "markdown",
      "metadata": {
        "id": "fOJbpDa6Swqr"
      },
      "source": [
        "# Proyecto individual de DA: Gaming"
      ]
    },
    {
      "cell_type": "markdown",
      "metadata": {
        "id": "mIRhlWB1Swq4"
      },
      "source": [
        "## Objetivo de negocio:\n",
        "Grupo inversor está dispuesto a invertir en el desarrollo de nuevos productos, para ello, nos solicitar lo siguietne:\n",
        "* Analizar el mercado de videojuegos.\n",
        "* Identificar posibles nichos para desarrollar nuevos productos.\n",
        "* Encontrar los insights y presentarlos."
      ]
    },
    {
      "cell_type": "markdown",
      "metadata": {
        "id": "_9ZuNxLLSwq6"
      },
      "source": [
        "### Preguntas a considerar y responder\n",
        "\n",
        "* ¿Qué análisis podemos hacer del mercado actual?\n",
        "* ¿Qué lineamientos generales deberá tener en cuenta el grupo inversor a la hora de determinar el primer juego de la empresa, para lograr aprovechar al máximo las tendencias del mercado, y así lograr el objetivo planteado?\n",
        "* ¿Qué diferencias encontramos entre las distintas plataformas?\n",
        "* ¿Qué relación podemos considerar en cuanto a la población e ingresos per cápita de los países?\n",
        "* ¿En qué regiones conviene enfocarse?\n",
        "* ¿Podemos determinar algo con respecto a los rangos etarios u otras características demográficas?\n",
        "* ¿Podemos estimar las ventas de los juegos actuales o al menos de una categoría? Shooters por ejemplo."
      ]
    },
    {
      "cell_type": "markdown",
      "metadata": {
        "id": "aidptp3_Swq7"
      },
      "source": [
        "### Dataset a utilizar\n",
        "| Archivos:\n",
        "| ------\n",
        "| Indicadores_del_desarrollo_humano_mundial Banco Mundial Indicadores de desarrollo humano.\n",
        "| Console_sales Reporte de ventas anuales de consolas. por marca y modelo.\n",
        "| Juegos en steam. Reporte con estadísticas de uso de juegos en Steam. Incluye recomendaciones  tiempo de uso, etc.\n",
        "| Video Games Sales Reporte de ventas por Video Juego y Plataforma. Incluye ranking y apertura por mercados (NA, EU, Japón y Global)."
      ]
    },
    {
      "cell_type": "markdown",
      "metadata": {
        "id": "PFUy1LFLSwq8"
      },
      "source": [
        "## Fases de trabajo\n",
        "1. Análisis exploratorio de datos para determinar las transformaciones de variables apropiadas, identificar patrones, y conclusiones.\n",
        "2. Construir KPIs que se integren con el dashboard:\n",
        "   1.  *Aumentar en un 10% las ventas por sector para el próximo trimestre.*\n",
        "   2.  *Aumentar en un 10% la plataforma Steam.*\n",
        "3. Construir un dashboard interactivo, funcional utilizando filtros adecuados.\n",
        "4. Generar un readme.md que describa el desarrollo del proyecto y sus correspondientes conclusiones.\n",
        "5. Narrar un storytelling en 10'."
      ]
    },
    {
      "cell_type": "markdown",
      "metadata": {
        "id": "0_zyxLBcSwq9"
      },
      "source": [
        "> ## 1. Análisis exploratorio de los datos"
      ]
    },
    {
      "cell_type": "markdown",
      "metadata": {
        "id": "QaesWFRHSwq-"
      },
      "source": [
        "#### Procesos a realizar:\n",
        "1. Búsqueda de valores faltantes\n",
        "2. Valores atípicos u outliers\n",
        "3. Análisis univariado y bivariado\n",
        "4. Registros duplicados\n",
        "5. Conclusiones"
      ]
    },
    {
      "cell_type": "markdown",
      "metadata": {
        "id": "2QJEIuuxSwq_"
      },
      "source": [
        "#### 1.1. Importar Librería"
      ]
    },
    {
      "cell_type": "code",
      "execution_count": 95,
      "metadata": {
        "id": "1-G2IyeoSwrA"
      },
      "outputs": [],
      "source": [
        "import pandas as pd\n",
        "import numpy as np\n",
        "import matplotlib.pyplot as plt\n",
        "import seaborn as sns\n",
        "import plotly.express as px\n",
        "from plotly.subplots import make_subplots\n",
        "import plotly.graph_objects as go\n",
        "from math import ceil\n",
        "from scipy.stats import pearsonr\n",
        "\n",
        "from scipy import stats\n",
        "\n",
        "%matplotlib inline\n",
        "plt.style.use('ggplot')\n",
        "\n",
        "import warnings\n",
        "warnings.filterwarnings('ignore')"
      ]
    },
    {
      "cell_type": "markdown",
      "metadata": {
        "id": "SxigDF4CSwrK"
      },
      "source": [
        "#### 1.5. Creación del DataFrame 4_Video_games_sales"
      ]
    },
    {
      "cell_type": "code",
      "execution_count": 96,
      "metadata": {
        "id": "2aVnk9hNSwrL"
      },
      "outputs": [],
      "source": [
        "df_4 = pd.read_csv('dataset/4_Video_games_sales.csv')"
      ]
    },
    {
      "cell_type": "code",
      "execution_count": 97,
      "metadata": {
        "id": "nmTp6axqSwrL",
        "outputId": "12c4b1ae-4b80-4062-c402-21abe626a3dd"
      },
      "outputs": [
        {
          "data": {
            "text/html": [
              "<div>\n",
              "<style scoped>\n",
              "    .dataframe tbody tr th:only-of-type {\n",
              "        vertical-align: middle;\n",
              "    }\n",
              "\n",
              "    .dataframe tbody tr th {\n",
              "        vertical-align: top;\n",
              "    }\n",
              "\n",
              "    .dataframe thead th {\n",
              "        text-align: right;\n",
              "    }\n",
              "</style>\n",
              "<table border=\"1\" class=\"dataframe\">\n",
              "  <thead>\n",
              "    <tr style=\"text-align: right;\">\n",
              "      <th></th>\n",
              "      <th>Name</th>\n",
              "      <th>Platform</th>\n",
              "      <th>Year_of_Release</th>\n",
              "      <th>Genre</th>\n",
              "      <th>Publisher</th>\n",
              "      <th>NA_Sales</th>\n",
              "      <th>EU_Sales</th>\n",
              "      <th>JP_Sales</th>\n",
              "      <th>Other_Sales</th>\n",
              "      <th>Global_Sales</th>\n",
              "      <th>Critic_Score</th>\n",
              "      <th>Critic_Count</th>\n",
              "      <th>User_Score</th>\n",
              "      <th>User_Count</th>\n",
              "      <th>Developer</th>\n",
              "      <th>Rating</th>\n",
              "    </tr>\n",
              "  </thead>\n",
              "  <tbody>\n",
              "    <tr>\n",
              "      <th>0</th>\n",
              "      <td>Wii Sports</td>\n",
              "      <td>Wii</td>\n",
              "      <td>2006.0</td>\n",
              "      <td>Sports</td>\n",
              "      <td>Nintendo</td>\n",
              "      <td>41.36</td>\n",
              "      <td>28.96</td>\n",
              "      <td>3.77</td>\n",
              "      <td>NaN</td>\n",
              "      <td>82.53</td>\n",
              "      <td>76.0</td>\n",
              "      <td>51.0</td>\n",
              "      <td>8</td>\n",
              "      <td>322.0</td>\n",
              "      <td>Nintendo</td>\n",
              "      <td>E</td>\n",
              "    </tr>\n",
              "    <tr>\n",
              "      <th>1</th>\n",
              "      <td>Super Mario Bros.</td>\n",
              "      <td>NES</td>\n",
              "      <td>1985.0</td>\n",
              "      <td>Platform</td>\n",
              "      <td>Nintendo</td>\n",
              "      <td>29.08</td>\n",
              "      <td>3.58</td>\n",
              "      <td>6.81</td>\n",
              "      <td>0.77</td>\n",
              "      <td>40.24</td>\n",
              "      <td>NaN</td>\n",
              "      <td>NaN</td>\n",
              "      <td>NaN</td>\n",
              "      <td>NaN</td>\n",
              "      <td>NaN</td>\n",
              "      <td>NaN</td>\n",
              "    </tr>\n",
              "    <tr>\n",
              "      <th>2</th>\n",
              "      <td>Mario Kart Wii</td>\n",
              "      <td>Wii</td>\n",
              "      <td>2008.0</td>\n",
              "      <td>Racing</td>\n",
              "      <td>Nintendo</td>\n",
              "      <td>15.68</td>\n",
              "      <td>12.76</td>\n",
              "      <td>3.79</td>\n",
              "      <td>3.29</td>\n",
              "      <td>35.52</td>\n",
              "      <td>82.0</td>\n",
              "      <td>73.0</td>\n",
              "      <td>8.3</td>\n",
              "      <td>709.0</td>\n",
              "      <td>Nintendo</td>\n",
              "      <td>E</td>\n",
              "    </tr>\n",
              "    <tr>\n",
              "      <th>3</th>\n",
              "      <td>Wii Sports Resort</td>\n",
              "      <td>Wii</td>\n",
              "      <td>2009.0</td>\n",
              "      <td>Sports</td>\n",
              "      <td>Nintendo</td>\n",
              "      <td>15.61</td>\n",
              "      <td>10.93</td>\n",
              "      <td>3.28</td>\n",
              "      <td>NaN</td>\n",
              "      <td>32.77</td>\n",
              "      <td>80.0</td>\n",
              "      <td>73.0</td>\n",
              "      <td>8</td>\n",
              "      <td>192.0</td>\n",
              "      <td>Nintendo</td>\n",
              "      <td>E</td>\n",
              "    </tr>\n",
              "    <tr>\n",
              "      <th>4</th>\n",
              "      <td>Pokemon Red/Pokemon Blue</td>\n",
              "      <td>GB</td>\n",
              "      <td>1996.0</td>\n",
              "      <td>Role-Playing</td>\n",
              "      <td>Nintendo</td>\n",
              "      <td>11.27</td>\n",
              "      <td>8.89</td>\n",
              "      <td>10.22</td>\n",
              "      <td>1.00</td>\n",
              "      <td>31.37</td>\n",
              "      <td>NaN</td>\n",
              "      <td>NaN</td>\n",
              "      <td>NaN</td>\n",
              "      <td>NaN</td>\n",
              "      <td>NaN</td>\n",
              "      <td>NaN</td>\n",
              "    </tr>\n",
              "    <tr>\n",
              "      <th>...</th>\n",
              "      <td>...</td>\n",
              "      <td>...</td>\n",
              "      <td>...</td>\n",
              "      <td>...</td>\n",
              "      <td>...</td>\n",
              "      <td>...</td>\n",
              "      <td>...</td>\n",
              "      <td>...</td>\n",
              "      <td>...</td>\n",
              "      <td>...</td>\n",
              "      <td>...</td>\n",
              "      <td>...</td>\n",
              "      <td>...</td>\n",
              "      <td>...</td>\n",
              "      <td>...</td>\n",
              "      <td>...</td>\n",
              "    </tr>\n",
              "    <tr>\n",
              "      <th>16714</th>\n",
              "      <td>Samurai Warriors: Sanada Maru</td>\n",
              "      <td>PS3</td>\n",
              "      <td>2016.0</td>\n",
              "      <td>Action</td>\n",
              "      <td>Tecmo Koei</td>\n",
              "      <td>0.00</td>\n",
              "      <td>0.00</td>\n",
              "      <td>0.01</td>\n",
              "      <td>0.00</td>\n",
              "      <td>0.01</td>\n",
              "      <td>NaN</td>\n",
              "      <td>NaN</td>\n",
              "      <td>NaN</td>\n",
              "      <td>NaN</td>\n",
              "      <td>NaN</td>\n",
              "      <td>NaN</td>\n",
              "    </tr>\n",
              "    <tr>\n",
              "      <th>16715</th>\n",
              "      <td>LMA Manager 2007</td>\n",
              "      <td>X360</td>\n",
              "      <td>2006.0</td>\n",
              "      <td>Sports</td>\n",
              "      <td>Codemasters</td>\n",
              "      <td>0.00</td>\n",
              "      <td>NaN</td>\n",
              "      <td>0.00</td>\n",
              "      <td>0.00</td>\n",
              "      <td>0.01</td>\n",
              "      <td>NaN</td>\n",
              "      <td>NaN</td>\n",
              "      <td>NaN</td>\n",
              "      <td>NaN</td>\n",
              "      <td>NaN</td>\n",
              "      <td>NaN</td>\n",
              "    </tr>\n",
              "    <tr>\n",
              "      <th>16716</th>\n",
              "      <td>Haitaka no Psychedelica</td>\n",
              "      <td>PSV</td>\n",
              "      <td>2016.0</td>\n",
              "      <td>Adventure</td>\n",
              "      <td>Idea Factory</td>\n",
              "      <td>0.00</td>\n",
              "      <td>0.00</td>\n",
              "      <td>0.01</td>\n",
              "      <td>0.00</td>\n",
              "      <td>0.01</td>\n",
              "      <td>NaN</td>\n",
              "      <td>NaN</td>\n",
              "      <td>NaN</td>\n",
              "      <td>NaN</td>\n",
              "      <td>NaN</td>\n",
              "      <td>NaN</td>\n",
              "    </tr>\n",
              "    <tr>\n",
              "      <th>16717</th>\n",
              "      <td>Spirits &amp; Spells</td>\n",
              "      <td>GBA</td>\n",
              "      <td>2003.0</td>\n",
              "      <td>Platform</td>\n",
              "      <td>Wanadoo</td>\n",
              "      <td>0.01</td>\n",
              "      <td>0.00</td>\n",
              "      <td>0.00</td>\n",
              "      <td>0.00</td>\n",
              "      <td>0.01</td>\n",
              "      <td>NaN</td>\n",
              "      <td>NaN</td>\n",
              "      <td>NaN</td>\n",
              "      <td>NaN</td>\n",
              "      <td>NaN</td>\n",
              "      <td>NaN</td>\n",
              "    </tr>\n",
              "    <tr>\n",
              "      <th>16718</th>\n",
              "      <td>Winning Post 8 2016</td>\n",
              "      <td>PSV</td>\n",
              "      <td>2016.0</td>\n",
              "      <td>Simulation</td>\n",
              "      <td>Tecmo Koei</td>\n",
              "      <td>0.00</td>\n",
              "      <td>NaN</td>\n",
              "      <td>0.01</td>\n",
              "      <td>0.00</td>\n",
              "      <td>0.01</td>\n",
              "      <td>NaN</td>\n",
              "      <td>NaN</td>\n",
              "      <td>NaN</td>\n",
              "      <td>NaN</td>\n",
              "      <td>NaN</td>\n",
              "      <td>NaN</td>\n",
              "    </tr>\n",
              "  </tbody>\n",
              "</table>\n",
              "<p>16719 rows × 16 columns</p>\n",
              "</div>"
            ],
            "text/plain": [
              "                                Name Platform  Year_of_Release         Genre  \\\n",
              "0                         Wii Sports      Wii           2006.0        Sports   \n",
              "1                  Super Mario Bros.      NES           1985.0      Platform   \n",
              "2                     Mario Kart Wii      Wii           2008.0        Racing   \n",
              "3                  Wii Sports Resort      Wii           2009.0        Sports   \n",
              "4           Pokemon Red/Pokemon Blue       GB           1996.0  Role-Playing   \n",
              "...                              ...      ...              ...           ...   \n",
              "16714  Samurai Warriors: Sanada Maru      PS3           2016.0        Action   \n",
              "16715               LMA Manager 2007     X360           2006.0        Sports   \n",
              "16716        Haitaka no Psychedelica      PSV           2016.0     Adventure   \n",
              "16717               Spirits & Spells      GBA           2003.0      Platform   \n",
              "16718            Winning Post 8 2016      PSV           2016.0    Simulation   \n",
              "\n",
              "          Publisher  NA_Sales  EU_Sales  JP_Sales  Other_Sales  Global_Sales  \\\n",
              "0          Nintendo     41.36     28.96      3.77          NaN         82.53   \n",
              "1          Nintendo     29.08      3.58      6.81         0.77         40.24   \n",
              "2          Nintendo     15.68     12.76      3.79         3.29         35.52   \n",
              "3          Nintendo     15.61     10.93      3.28          NaN         32.77   \n",
              "4          Nintendo     11.27      8.89     10.22         1.00         31.37   \n",
              "...             ...       ...       ...       ...          ...           ...   \n",
              "16714    Tecmo Koei      0.00      0.00      0.01         0.00          0.01   \n",
              "16715   Codemasters      0.00       NaN      0.00         0.00          0.01   \n",
              "16716  Idea Factory      0.00      0.00      0.01         0.00          0.01   \n",
              "16717       Wanadoo      0.01      0.00      0.00         0.00          0.01   \n",
              "16718    Tecmo Koei      0.00       NaN      0.01         0.00          0.01   \n",
              "\n",
              "       Critic_Score  Critic_Count User_Score  User_Count Developer Rating  \n",
              "0              76.0          51.0          8       322.0  Nintendo      E  \n",
              "1               NaN           NaN        NaN         NaN       NaN    NaN  \n",
              "2              82.0          73.0        8.3       709.0  Nintendo      E  \n",
              "3              80.0          73.0          8       192.0  Nintendo      E  \n",
              "4               NaN           NaN        NaN         NaN       NaN    NaN  \n",
              "...             ...           ...        ...         ...       ...    ...  \n",
              "16714           NaN           NaN        NaN         NaN       NaN    NaN  \n",
              "16715           NaN           NaN        NaN         NaN       NaN    NaN  \n",
              "16716           NaN           NaN        NaN         NaN       NaN    NaN  \n",
              "16717           NaN           NaN        NaN         NaN       NaN    NaN  \n",
              "16718           NaN           NaN        NaN         NaN       NaN    NaN  \n",
              "\n",
              "[16719 rows x 16 columns]"
            ]
          },
          "execution_count": 97,
          "metadata": {},
          "output_type": "execute_result"
        }
      ],
      "source": [
        "df_4"
      ]
    },
    {
      "cell_type": "code",
      "execution_count": 98,
      "metadata": {
        "id": "LiVjG7ffSwrM",
        "outputId": "76e02c85-2a0b-467a-c21b-a055ca287f99"
      },
      "outputs": [
        {
          "data": {
            "text/plain": [
              "Index(['Name', 'Platform', 'Year_of_Release', 'Genre', 'Publisher', 'NA_Sales',\n",
              "       'EU_Sales', 'JP_Sales', 'Other_Sales', 'Global_Sales', 'Critic_Score',\n",
              "       'Critic_Count', 'User_Score', 'User_Count', 'Developer', 'Rating'],\n",
              "      dtype='object')"
            ]
          },
          "execution_count": 98,
          "metadata": {},
          "output_type": "execute_result"
        }
      ],
      "source": [
        "df_4.columns"
      ]
    },
    {
      "cell_type": "code",
      "execution_count": 99,
      "metadata": {
        "id": "x1rvSfwFSwrM",
        "outputId": "44a84f2c-963f-48b0-c9ac-45236e0b78a2"
      },
      "outputs": [
        {
          "name": "stdout",
          "output_type": "stream",
          "text": [
            "<class 'pandas.core.frame.DataFrame'>\n",
            "RangeIndex: 16719 entries, 0 to 16718\n",
            "Data columns (total 16 columns):\n",
            " #   Column           Non-Null Count  Dtype  \n",
            "---  ------           --------------  -----  \n",
            " 0   Name             16717 non-null  object \n",
            " 1   Platform         16719 non-null  object \n",
            " 2   Year_of_Release  16450 non-null  float64\n",
            " 3   Genre            16717 non-null  object \n",
            " 4   Publisher        16665 non-null  object \n",
            " 5   NA_Sales         15848 non-null  float64\n",
            " 6   EU_Sales         15520 non-null  float64\n",
            " 7   JP_Sales         16719 non-null  float64\n",
            " 8   Other_Sales      15341 non-null  float64\n",
            " 9   Global_Sales     15728 non-null  float64\n",
            " 10  Critic_Score     8137 non-null   float64\n",
            " 11  Critic_Count     8137 non-null   float64\n",
            " 12  User_Score       10015 non-null  object \n",
            " 13  User_Count       7590 non-null   float64\n",
            " 14  Developer        10096 non-null  object \n",
            " 15  Rating           9950 non-null   object \n",
            "dtypes: float64(9), object(7)\n",
            "memory usage: 2.0+ MB\n"
          ]
        }
      ],
      "source": [
        "df_4.info()"
      ]
    },
    {
      "cell_type": "code",
      "execution_count": 100,
      "metadata": {
        "id": "mwSZxVoASwrN",
        "outputId": "5aed0488-3d35-47c8-95ae-2f8a414fc30d"
      },
      "outputs": [
        {
          "data": {
            "text/plain": [
              "0        76.0\n",
              "1         NaN\n",
              "2        82.0\n",
              "3        80.0\n",
              "4         NaN\n",
              "         ... \n",
              "16714     NaN\n",
              "16715     NaN\n",
              "16716     NaN\n",
              "16717     NaN\n",
              "16718     NaN\n",
              "Name: Critic_Score, Length: 16719, dtype: float64"
            ]
          },
          "execution_count": 100,
          "metadata": {},
          "output_type": "execute_result"
        }
      ],
      "source": [
        "df_4['Critic_Score']"
      ]
    },
    {
      "cell_type": "markdown",
      "metadata": {
        "id": "iubXbWafSwrN"
      },
      "source": [
        "Se observa que existen columnas con casi la mitad de filas, por lo cual, no se considerarán.\n",
        "* Critic_Score\n",
        "* Critic_Count\n",
        "* User_Count\n",
        "* User_Score\n",
        "* Rating\n",
        "* Developer"
      ]
    },
    {
      "cell_type": "code",
      "execution_count": 101,
      "metadata": {
        "id": "zsVA4QaCSwrN",
        "outputId": "a85db3c8-f577-4695-e6a9-09152425d985"
      },
      "outputs": [
        {
          "data": {
            "text/plain": [
              "Index(['Name', 'Platform', 'Year_of_Release', 'Genre', 'Publisher', 'NA_Sales',\n",
              "       'EU_Sales', 'JP_Sales', 'Other_Sales', 'Global_Sales', 'Critic_Score',\n",
              "       'Critic_Count', 'User_Score', 'User_Count', 'Developer', 'Rating'],\n",
              "      dtype='object')"
            ]
          },
          "execution_count": 101,
          "metadata": {},
          "output_type": "execute_result"
        }
      ],
      "source": [
        "df_4.columns"
      ]
    },
    {
      "cell_type": "code",
      "execution_count": 102,
      "metadata": {
        "id": "bhiZlv0sSwrN"
      },
      "outputs": [],
      "source": [
        "df_4 = df_4.drop(columns=['Critic_Score', 'Critic_Count', 'User_Count', 'User_Score', 'Rating', 'Developer'])"
      ]
    },
    {
      "cell_type": "code",
      "execution_count": 103,
      "metadata": {
        "id": "fI3ETBpqSwrO"
      },
      "outputs": [],
      "source": [
        "df_4 = df_4.dropna()"
      ]
    },
    {
      "cell_type": "code",
      "execution_count": 104,
      "metadata": {
        "id": "TvVhtXhoSwrO",
        "outputId": "79562647-0cd8-4b48-e44a-b6cfab85f62e"
      },
      "outputs": [
        {
          "name": "stdout",
          "output_type": "stream",
          "text": [
            "<class 'pandas.core.frame.DataFrame'>\n",
            "Index: 12479 entries, 1 to 16717\n",
            "Data columns (total 10 columns):\n",
            " #   Column           Non-Null Count  Dtype  \n",
            "---  ------           --------------  -----  \n",
            " 0   Name             12479 non-null  object \n",
            " 1   Platform         12479 non-null  object \n",
            " 2   Year_of_Release  12479 non-null  float64\n",
            " 3   Genre            12479 non-null  object \n",
            " 4   Publisher        12479 non-null  object \n",
            " 5   NA_Sales         12479 non-null  float64\n",
            " 6   EU_Sales         12479 non-null  float64\n",
            " 7   JP_Sales         12479 non-null  float64\n",
            " 8   Other_Sales      12479 non-null  float64\n",
            " 9   Global_Sales     12479 non-null  float64\n",
            "dtypes: float64(6), object(4)\n",
            "memory usage: 1.0+ MB\n"
          ]
        }
      ],
      "source": [
        "df_4.info()"
      ]
    },
    {
      "cell_type": "markdown",
      "metadata": {
        "id": "tdK6FxSnSwrO"
      },
      "source": [
        "#### 1.6. Observaciones\n",
        "\n",
        "* Los tamaños de los DataFrame son pequeños y probablemente no existan problemas al trabarlos en un tablero de control.\n",
        "* Se han eliminado algunas columnas por datos faltantes. Pero se resolverá en análisis posteriores si se eliminan más por irrelevancia.\n",
        "* Se observa que el dataframe df_1_1 tiene una estructura rara. Se resolverá más adelante si se normaliza o se deja como está.\n",
        "* Se ha observado cambiar los nombres de las columnas del df_3 para que queden todos iguales."
      ]
    },
    {
      "cell_type": "markdown",
      "metadata": {
        "id": "JM6fFpjbSwrP"
      },
      "source": [
        "#### 2.1. Análisis de nulos"
      ]
    },
    {
      "cell_type": "code",
      "execution_count": 105,
      "metadata": {
        "id": "zet7y0EHSwrS",
        "outputId": "e1f4540b-75ab-43b4-a7a8-c443a7cb9dec"
      },
      "outputs": [
        {
          "data": {
            "text/plain": [
              "Name               0\n",
              "Platform           0\n",
              "Year_of_Release    0\n",
              "Genre              0\n",
              "Publisher          0\n",
              "NA_Sales           0\n",
              "EU_Sales           0\n",
              "JP_Sales           0\n",
              "Other_Sales        0\n",
              "Global_Sales       0\n",
              "dtype: int64"
            ]
          },
          "execution_count": 105,
          "metadata": {},
          "output_type": "execute_result"
        }
      ],
      "source": [
        "df_4.isnull().sum()"
      ]
    },
    {
      "cell_type": "markdown",
      "metadata": {
        "id": "Mj_4fs_1Swrc"
      },
      "source": [
        "Observaciones:\n",
        "* No se observan nulos."
      ]
    },
    {
      "cell_type": "markdown",
      "metadata": {},
      "source": [
        "#### 2.2. Estructura y filtrado de datos"
      ]
    },
    {
      "cell_type": "code",
      "execution_count": 106,
      "metadata": {},
      "outputs": [
        {
          "data": {
            "text/html": [
              "<div>\n",
              "<style scoped>\n",
              "    .dataframe tbody tr th:only-of-type {\n",
              "        vertical-align: middle;\n",
              "    }\n",
              "\n",
              "    .dataframe tbody tr th {\n",
              "        vertical-align: top;\n",
              "    }\n",
              "\n",
              "    .dataframe thead th {\n",
              "        text-align: right;\n",
              "    }\n",
              "</style>\n",
              "<table border=\"1\" class=\"dataframe\">\n",
              "  <thead>\n",
              "    <tr style=\"text-align: right;\">\n",
              "      <th></th>\n",
              "      <th>Name</th>\n",
              "      <th>Platform</th>\n",
              "      <th>Year_of_Release</th>\n",
              "      <th>Genre</th>\n",
              "      <th>Publisher</th>\n",
              "      <th>NA_Sales</th>\n",
              "      <th>EU_Sales</th>\n",
              "      <th>JP_Sales</th>\n",
              "      <th>Other_Sales</th>\n",
              "      <th>Global_Sales</th>\n",
              "    </tr>\n",
              "  </thead>\n",
              "  <tbody>\n",
              "    <tr>\n",
              "      <th>1</th>\n",
              "      <td>Super Mario Bros.</td>\n",
              "      <td>NES</td>\n",
              "      <td>1985</td>\n",
              "      <td>Platform</td>\n",
              "      <td>Nintendo</td>\n",
              "      <td>29.08</td>\n",
              "      <td>3.58</td>\n",
              "      <td>6.81</td>\n",
              "      <td>0.77</td>\n",
              "      <td>40.24</td>\n",
              "    </tr>\n",
              "    <tr>\n",
              "      <th>2</th>\n",
              "      <td>Mario Kart Wii</td>\n",
              "      <td>Wii</td>\n",
              "      <td>2008</td>\n",
              "      <td>Racing</td>\n",
              "      <td>Nintendo</td>\n",
              "      <td>15.68</td>\n",
              "      <td>12.76</td>\n",
              "      <td>3.79</td>\n",
              "      <td>3.29</td>\n",
              "      <td>35.52</td>\n",
              "    </tr>\n",
              "    <tr>\n",
              "      <th>4</th>\n",
              "      <td>Pokemon Red/Pokemon Blue</td>\n",
              "      <td>GB</td>\n",
              "      <td>1996</td>\n",
              "      <td>Role-Playing</td>\n",
              "      <td>Nintendo</td>\n",
              "      <td>11.27</td>\n",
              "      <td>8.89</td>\n",
              "      <td>10.22</td>\n",
              "      <td>1.00</td>\n",
              "      <td>31.37</td>\n",
              "    </tr>\n",
              "    <tr>\n",
              "      <th>5</th>\n",
              "      <td>Tetris</td>\n",
              "      <td>GB</td>\n",
              "      <td>1989</td>\n",
              "      <td>Puzzle</td>\n",
              "      <td>Nintendo</td>\n",
              "      <td>23.20</td>\n",
              "      <td>2.26</td>\n",
              "      <td>4.22</td>\n",
              "      <td>0.58</td>\n",
              "      <td>30.26</td>\n",
              "    </tr>\n",
              "    <tr>\n",
              "      <th>6</th>\n",
              "      <td>New Super Mario Bros.</td>\n",
              "      <td>DS</td>\n",
              "      <td>2006</td>\n",
              "      <td>Platform</td>\n",
              "      <td>Nintendo</td>\n",
              "      <td>11.28</td>\n",
              "      <td>9.14</td>\n",
              "      <td>6.50</td>\n",
              "      <td>2.88</td>\n",
              "      <td>29.80</td>\n",
              "    </tr>\n",
              "    <tr>\n",
              "      <th>...</th>\n",
              "      <td>...</td>\n",
              "      <td>...</td>\n",
              "      <td>...</td>\n",
              "      <td>...</td>\n",
              "      <td>...</td>\n",
              "      <td>...</td>\n",
              "      <td>...</td>\n",
              "      <td>...</td>\n",
              "      <td>...</td>\n",
              "      <td>...</td>\n",
              "    </tr>\n",
              "    <tr>\n",
              "      <th>16712</th>\n",
              "      <td>Woody Woodpecker in Crazy Castle 5</td>\n",
              "      <td>GBA</td>\n",
              "      <td>2002</td>\n",
              "      <td>Platform</td>\n",
              "      <td>Kemco</td>\n",
              "      <td>0.01</td>\n",
              "      <td>0.00</td>\n",
              "      <td>0.00</td>\n",
              "      <td>0.00</td>\n",
              "      <td>0.01</td>\n",
              "    </tr>\n",
              "    <tr>\n",
              "      <th>16713</th>\n",
              "      <td>SCORE International Baja 1000: The Official Game</td>\n",
              "      <td>PS2</td>\n",
              "      <td>2008</td>\n",
              "      <td>Racing</td>\n",
              "      <td>Activision</td>\n",
              "      <td>0.00</td>\n",
              "      <td>0.00</td>\n",
              "      <td>0.00</td>\n",
              "      <td>0.00</td>\n",
              "      <td>0.01</td>\n",
              "    </tr>\n",
              "    <tr>\n",
              "      <th>16714</th>\n",
              "      <td>Samurai Warriors: Sanada Maru</td>\n",
              "      <td>PS3</td>\n",
              "      <td>2016</td>\n",
              "      <td>Action</td>\n",
              "      <td>Tecmo Koei</td>\n",
              "      <td>0.00</td>\n",
              "      <td>0.00</td>\n",
              "      <td>0.01</td>\n",
              "      <td>0.00</td>\n",
              "      <td>0.01</td>\n",
              "    </tr>\n",
              "    <tr>\n",
              "      <th>16716</th>\n",
              "      <td>Haitaka no Psychedelica</td>\n",
              "      <td>PSV</td>\n",
              "      <td>2016</td>\n",
              "      <td>Adventure</td>\n",
              "      <td>Idea Factory</td>\n",
              "      <td>0.00</td>\n",
              "      <td>0.00</td>\n",
              "      <td>0.01</td>\n",
              "      <td>0.00</td>\n",
              "      <td>0.01</td>\n",
              "    </tr>\n",
              "    <tr>\n",
              "      <th>16717</th>\n",
              "      <td>Spirits &amp; Spells</td>\n",
              "      <td>GBA</td>\n",
              "      <td>2003</td>\n",
              "      <td>Platform</td>\n",
              "      <td>Wanadoo</td>\n",
              "      <td>0.01</td>\n",
              "      <td>0.00</td>\n",
              "      <td>0.00</td>\n",
              "      <td>0.00</td>\n",
              "      <td>0.01</td>\n",
              "    </tr>\n",
              "  </tbody>\n",
              "</table>\n",
              "<p>12479 rows × 10 columns</p>\n",
              "</div>"
            ],
            "text/plain": [
              "                                                   Name Platform  \\\n",
              "1                                     Super Mario Bros.      NES   \n",
              "2                                        Mario Kart Wii      Wii   \n",
              "4                              Pokemon Red/Pokemon Blue       GB   \n",
              "5                                                Tetris       GB   \n",
              "6                                 New Super Mario Bros.       DS   \n",
              "...                                                 ...      ...   \n",
              "16712                Woody Woodpecker in Crazy Castle 5      GBA   \n",
              "16713  SCORE International Baja 1000: The Official Game      PS2   \n",
              "16714                     Samurai Warriors: Sanada Maru      PS3   \n",
              "16716                           Haitaka no Psychedelica      PSV   \n",
              "16717                                  Spirits & Spells      GBA   \n",
              "\n",
              "       Year_of_Release         Genre     Publisher  NA_Sales  EU_Sales  \\\n",
              "1                 1985      Platform      Nintendo     29.08      3.58   \n",
              "2                 2008        Racing      Nintendo     15.68     12.76   \n",
              "4                 1996  Role-Playing      Nintendo     11.27      8.89   \n",
              "5                 1989        Puzzle      Nintendo     23.20      2.26   \n",
              "6                 2006      Platform      Nintendo     11.28      9.14   \n",
              "...                ...           ...           ...       ...       ...   \n",
              "16712             2002      Platform         Kemco      0.01      0.00   \n",
              "16713             2008        Racing    Activision      0.00      0.00   \n",
              "16714             2016        Action    Tecmo Koei      0.00      0.00   \n",
              "16716             2016     Adventure  Idea Factory      0.00      0.00   \n",
              "16717             2003      Platform       Wanadoo      0.01      0.00   \n",
              "\n",
              "       JP_Sales  Other_Sales  Global_Sales  \n",
              "1          6.81         0.77         40.24  \n",
              "2          3.79         3.29         35.52  \n",
              "4         10.22         1.00         31.37  \n",
              "5          4.22         0.58         30.26  \n",
              "6          6.50         2.88         29.80  \n",
              "...         ...          ...           ...  \n",
              "16712      0.00         0.00          0.01  \n",
              "16713      0.00         0.00          0.01  \n",
              "16714      0.01         0.00          0.01  \n",
              "16716      0.01         0.00          0.01  \n",
              "16717      0.00         0.00          0.01  \n",
              "\n",
              "[12479 rows x 10 columns]"
            ]
          },
          "execution_count": 106,
          "metadata": {},
          "output_type": "execute_result"
        }
      ],
      "source": [
        "# Función para detectar si un valor es un año (número) o no\n",
        "def is_year(value):\n",
        "    try:\n",
        "        # Intenta convertir a entero, si funciona, es un año\n",
        "        int(value)\n",
        "        return True\n",
        "    except (ValueError, TypeError):\n",
        "        return False\n",
        "\n",
        "# Crear columnas temporales para identificar valores fuera de lugar\n",
        "df_4['Year_Correct'] = df_4['Year_of_Release'].apply(lambda x: x if is_year(x) else None)\n",
        "df_4['Genre_Correct'] = df_4['Genre'].apply(lambda x: x if not is_year(x) else None)\n",
        "\n",
        "# Identificar valores desplazados\n",
        "df_4['Year_in_Genre'] = df_4['Genre'].apply(lambda x: x if is_year(x) else None)\n",
        "df_4['Genre_in_Year'] = df_4['Year_of_Release'].apply(lambda x: x if not is_year(x) else None)\n",
        "\n",
        "# Rellenar las columnas originales con los valores correctos\n",
        "df_4['Year_of_Release'] = df_4['Year_Correct'].combine_first(df_4['Year_in_Genre'])\n",
        "df_4['Genre'] = df_4['Genre_Correct'].combine_first(df_4['Genre_in_Year'])\n",
        "\n",
        "# Convertir Year_of_Release a tipo entero (si hay NaN, usa Int64 para permitir valores nulos)\n",
        "df_4['Year_of_Release'] = df_4['Year_of_Release'].astype('Int64')\n",
        "\n",
        "# Eliminar columnas temporales\n",
        "df_4 = df_4.drop(columns=['Year_Correct', 'Genre_Correct', 'Year_in_Genre', 'Genre_in_Year'])\n",
        "\n",
        "df_4"
      ]
    },
    {
      "cell_type": "code",
      "execution_count": 107,
      "metadata": {},
      "outputs": [
        {
          "data": {
            "text/html": [
              "<div>\n",
              "<style scoped>\n",
              "    .dataframe tbody tr th:only-of-type {\n",
              "        vertical-align: middle;\n",
              "    }\n",
              "\n",
              "    .dataframe tbody tr th {\n",
              "        vertical-align: top;\n",
              "    }\n",
              "\n",
              "    .dataframe thead th {\n",
              "        text-align: right;\n",
              "    }\n",
              "</style>\n",
              "<table border=\"1\" class=\"dataframe\">\n",
              "  <thead>\n",
              "    <tr style=\"text-align: right;\">\n",
              "      <th></th>\n",
              "      <th>Name</th>\n",
              "      <th>Platform</th>\n",
              "      <th>Year_of_Release</th>\n",
              "      <th>Genre</th>\n",
              "      <th>Publisher</th>\n",
              "      <th>NA_Sales</th>\n",
              "      <th>EU_Sales</th>\n",
              "      <th>JP_Sales</th>\n",
              "      <th>Other_Sales</th>\n",
              "      <th>Global_Sales</th>\n",
              "    </tr>\n",
              "  </thead>\n",
              "  <tbody>\n",
              "    <tr>\n",
              "      <th>1</th>\n",
              "      <td>Super Mario Bros.</td>\n",
              "      <td>NES</td>\n",
              "      <td>1985</td>\n",
              "      <td>Platform</td>\n",
              "      <td>Nintendo</td>\n",
              "      <td>29.08</td>\n",
              "      <td>3.58</td>\n",
              "      <td>6.81</td>\n",
              "      <td>0.77</td>\n",
              "      <td>40.24</td>\n",
              "    </tr>\n",
              "    <tr>\n",
              "      <th>2</th>\n",
              "      <td>Mario Kart Wii</td>\n",
              "      <td>Wii</td>\n",
              "      <td>2008</td>\n",
              "      <td>Racing</td>\n",
              "      <td>Nintendo</td>\n",
              "      <td>15.68</td>\n",
              "      <td>12.76</td>\n",
              "      <td>3.79</td>\n",
              "      <td>3.29</td>\n",
              "      <td>35.52</td>\n",
              "    </tr>\n",
              "    <tr>\n",
              "      <th>4</th>\n",
              "      <td>Pokemon Red/Pokemon Blue</td>\n",
              "      <td>GB</td>\n",
              "      <td>1996</td>\n",
              "      <td>Role-Playing</td>\n",
              "      <td>Nintendo</td>\n",
              "      <td>11.27</td>\n",
              "      <td>8.89</td>\n",
              "      <td>10.22</td>\n",
              "      <td>1.00</td>\n",
              "      <td>31.37</td>\n",
              "    </tr>\n",
              "    <tr>\n",
              "      <th>5</th>\n",
              "      <td>Tetris</td>\n",
              "      <td>GB</td>\n",
              "      <td>1989</td>\n",
              "      <td>Puzzle</td>\n",
              "      <td>Nintendo</td>\n",
              "      <td>23.20</td>\n",
              "      <td>2.26</td>\n",
              "      <td>4.22</td>\n",
              "      <td>0.58</td>\n",
              "      <td>30.26</td>\n",
              "    </tr>\n",
              "    <tr>\n",
              "      <th>6</th>\n",
              "      <td>New Super Mario Bros.</td>\n",
              "      <td>DS</td>\n",
              "      <td>2006</td>\n",
              "      <td>Platform</td>\n",
              "      <td>Nintendo</td>\n",
              "      <td>11.28</td>\n",
              "      <td>9.14</td>\n",
              "      <td>6.50</td>\n",
              "      <td>2.88</td>\n",
              "      <td>29.80</td>\n",
              "    </tr>\n",
              "    <tr>\n",
              "      <th>...</th>\n",
              "      <td>...</td>\n",
              "      <td>...</td>\n",
              "      <td>...</td>\n",
              "      <td>...</td>\n",
              "      <td>...</td>\n",
              "      <td>...</td>\n",
              "      <td>...</td>\n",
              "      <td>...</td>\n",
              "      <td>...</td>\n",
              "      <td>...</td>\n",
              "    </tr>\n",
              "    <tr>\n",
              "      <th>10327</th>\n",
              "      <td>God Eater 2: Rage Burst</td>\n",
              "      <td>PS4</td>\n",
              "      <td>2015</td>\n",
              "      <td>Role-Playing</td>\n",
              "      <td>Namco Bandai Games</td>\n",
              "      <td>0.00</td>\n",
              "      <td>0.01</td>\n",
              "      <td>0.09</td>\n",
              "      <td>0.00</td>\n",
              "      <td>0.11</td>\n",
              "    </tr>\n",
              "    <tr>\n",
              "      <th>10328</th>\n",
              "      <td>Pachi-Slot Aruze Oukoku 3</td>\n",
              "      <td>PS</td>\n",
              "      <td>2000</td>\n",
              "      <td>Misc</td>\n",
              "      <td>Aruze Corp</td>\n",
              "      <td>0.00</td>\n",
              "      <td>0.00</td>\n",
              "      <td>0.10</td>\n",
              "      <td>0.01</td>\n",
              "      <td>0.11</td>\n",
              "    </tr>\n",
              "    <tr>\n",
              "      <th>10329</th>\n",
              "      <td>Tournament Pool</td>\n",
              "      <td>Wii</td>\n",
              "      <td>2009</td>\n",
              "      <td>Sports</td>\n",
              "      <td>Destineer</td>\n",
              "      <td>0.10</td>\n",
              "      <td>0.00</td>\n",
              "      <td>0.00</td>\n",
              "      <td>0.01</td>\n",
              "      <td>0.11</td>\n",
              "    </tr>\n",
              "    <tr>\n",
              "      <th>10330</th>\n",
              "      <td>Rock Band Track Pack: Classic Rock</td>\n",
              "      <td>PS3</td>\n",
              "      <td>2009</td>\n",
              "      <td>Misc</td>\n",
              "      <td>MTV Games</td>\n",
              "      <td>0.10</td>\n",
              "      <td>0.00</td>\n",
              "      <td>0.00</td>\n",
              "      <td>0.01</td>\n",
              "      <td>0.11</td>\n",
              "    </tr>\n",
              "    <tr>\n",
              "      <th>10331</th>\n",
              "      <td>Aqua Aqua</td>\n",
              "      <td>PS2</td>\n",
              "      <td>2000</td>\n",
              "      <td>Puzzle</td>\n",
              "      <td>3DO</td>\n",
              "      <td>0.05</td>\n",
              "      <td>0.04</td>\n",
              "      <td>0.00</td>\n",
              "      <td>0.01</td>\n",
              "      <td>0.11</td>\n",
              "    </tr>\n",
              "  </tbody>\n",
              "</table>\n",
              "<p>7787 rows × 10 columns</p>\n",
              "</div>"
            ],
            "text/plain": [
              "                                     Name Platform  Year_of_Release  \\\n",
              "1                       Super Mario Bros.      NES             1985   \n",
              "2                          Mario Kart Wii      Wii             2008   \n",
              "4                Pokemon Red/Pokemon Blue       GB             1996   \n",
              "5                                  Tetris       GB             1989   \n",
              "6                   New Super Mario Bros.       DS             2006   \n",
              "...                                   ...      ...              ...   \n",
              "10327             God Eater 2: Rage Burst      PS4             2015   \n",
              "10328           Pachi-Slot Aruze Oukoku 3       PS             2000   \n",
              "10329                     Tournament Pool      Wii             2009   \n",
              "10330  Rock Band Track Pack: Classic Rock      PS3             2009   \n",
              "10331                           Aqua Aqua      PS2             2000   \n",
              "\n",
              "              Genre           Publisher  NA_Sales  EU_Sales  JP_Sales  \\\n",
              "1          Platform            Nintendo     29.08      3.58      6.81   \n",
              "2            Racing            Nintendo     15.68     12.76      3.79   \n",
              "4      Role-Playing            Nintendo     11.27      8.89     10.22   \n",
              "5            Puzzle            Nintendo     23.20      2.26      4.22   \n",
              "6          Platform            Nintendo     11.28      9.14      6.50   \n",
              "...             ...                 ...       ...       ...       ...   \n",
              "10327  Role-Playing  Namco Bandai Games      0.00      0.01      0.09   \n",
              "10328          Misc          Aruze Corp      0.00      0.00      0.10   \n",
              "10329        Sports           Destineer      0.10      0.00      0.00   \n",
              "10330          Misc           MTV Games      0.10      0.00      0.00   \n",
              "10331        Puzzle                 3DO      0.05      0.04      0.00   \n",
              "\n",
              "       Other_Sales  Global_Sales  \n",
              "1             0.77         40.24  \n",
              "2             3.29         35.52  \n",
              "4             1.00         31.37  \n",
              "5             0.58         30.26  \n",
              "6             2.88         29.80  \n",
              "...            ...           ...  \n",
              "10327         0.00          0.11  \n",
              "10328         0.01          0.11  \n",
              "10329         0.01          0.11  \n",
              "10330         0.01          0.11  \n",
              "10331         0.01          0.11  \n",
              "\n",
              "[7787 rows x 10 columns]"
            ]
          },
          "execution_count": 107,
          "metadata": {},
          "output_type": "execute_result"
        }
      ],
      "source": [
        "df_4 = df_4.sort_values(by='Global_Sales', ascending=False)\n",
        "df_4[df_4['Global_Sales'] > 0.1]"
      ]
    },
    {
      "cell_type": "code",
      "execution_count": 108,
      "metadata": {},
      "outputs": [
        {
          "name": "stdout",
          "output_type": "stream",
          "text": [
            "\n",
            "Conteo de juegos por año:\n"
          ]
        },
        {
          "data": {
            "text/plain": [
              "Year_of_Release\n",
              "1980       7\n",
              "1981      36\n",
              "1982      27\n",
              "1983      11\n",
              "1984      12\n",
              "1985      11\n",
              "1986      15\n",
              "1987      12\n",
              "1988      13\n",
              "1989      12\n",
              "1990      12\n",
              "1991      32\n",
              "1992      31\n",
              "1993      47\n",
              "1994      96\n",
              "1995     169\n",
              "1996     207\n",
              "1997     232\n",
              "1998     284\n",
              "1999     260\n",
              "2000     266\n",
              "2001     369\n",
              "2002     632\n",
              "2003     578\n",
              "2004     561\n",
              "2005     726\n",
              "2006     781\n",
              "2007     910\n",
              "2008    1073\n",
              "2009    1081\n",
              "2010     937\n",
              "2011     883\n",
              "2012     470\n",
              "2013     397\n",
              "2014     433\n",
              "2015     462\n",
              "2016     390\n",
              "2017       3\n",
              "2020       1\n",
              "Name: count, dtype: Int64"
            ]
          },
          "execution_count": 108,
          "metadata": {},
          "output_type": "execute_result"
        }
      ],
      "source": [
        "# Hacer el conteo de cada año en Year_of_Release\n",
        "year_counts = df_4['Year_of_Release'].value_counts().sort_index()\n",
        "\n",
        "print(\"\\nConteo de juegos por año:\")\n",
        "year_counts"
      ]
    },
    {
      "cell_type": "code",
      "execution_count": 109,
      "metadata": {},
      "outputs": [
        {
          "data": {
            "text/html": [
              "<div>\n",
              "<style scoped>\n",
              "    .dataframe tbody tr th:only-of-type {\n",
              "        vertical-align: middle;\n",
              "    }\n",
              "\n",
              "    .dataframe tbody tr th {\n",
              "        vertical-align: top;\n",
              "    }\n",
              "\n",
              "    .dataframe thead th {\n",
              "        text-align: right;\n",
              "    }\n",
              "</style>\n",
              "<table border=\"1\" class=\"dataframe\">\n",
              "  <thead>\n",
              "    <tr style=\"text-align: right;\">\n",
              "      <th></th>\n",
              "      <th>Name</th>\n",
              "      <th>Platform</th>\n",
              "      <th>Year_of_Release</th>\n",
              "      <th>Genre</th>\n",
              "      <th>Publisher</th>\n",
              "      <th>NA_Sales</th>\n",
              "      <th>EU_Sales</th>\n",
              "      <th>JP_Sales</th>\n",
              "      <th>Other_Sales</th>\n",
              "      <th>Global_Sales</th>\n",
              "    </tr>\n",
              "  </thead>\n",
              "  <tbody>\n",
              "    <tr>\n",
              "      <th>15866</th>\n",
              "      <td>Rocksmith 2014 Edition Remastered</td>\n",
              "      <td>PS4</td>\n",
              "      <td>2016</td>\n",
              "      <td>Misc</td>\n",
              "      <td>Ubisoft</td>\n",
              "      <td>0.01</td>\n",
              "      <td>0.00</td>\n",
              "      <td>0.00</td>\n",
              "      <td>0.00</td>\n",
              "      <td>0.02</td>\n",
              "    </tr>\n",
              "    <tr>\n",
              "      <th>14606</th>\n",
              "      <td>Darius Burst: Chronicle Saviours</td>\n",
              "      <td>PSV</td>\n",
              "      <td>2016</td>\n",
              "      <td>Action</td>\n",
              "      <td>Kadokawa Games</td>\n",
              "      <td>0.00</td>\n",
              "      <td>0.00</td>\n",
              "      <td>0.03</td>\n",
              "      <td>0.00</td>\n",
              "      <td>0.03</td>\n",
              "    </tr>\n",
              "    <tr>\n",
              "      <th>14573</th>\n",
              "      <td>Terraria</td>\n",
              "      <td>WiiU</td>\n",
              "      <td>2016</td>\n",
              "      <td>Action</td>\n",
              "      <td>505 Games</td>\n",
              "      <td>0.00</td>\n",
              "      <td>0.03</td>\n",
              "      <td>0.00</td>\n",
              "      <td>0.00</td>\n",
              "      <td>0.03</td>\n",
              "    </tr>\n",
              "    <tr>\n",
              "      <th>9630</th>\n",
              "      <td>NBA 2K17</td>\n",
              "      <td>PS3</td>\n",
              "      <td>2016</td>\n",
              "      <td>Sports</td>\n",
              "      <td>Take-Two Interactive</td>\n",
              "      <td>0.06</td>\n",
              "      <td>0.04</td>\n",
              "      <td>0.00</td>\n",
              "      <td>0.02</td>\n",
              "      <td>0.13</td>\n",
              "    </tr>\n",
              "    <tr>\n",
              "      <th>9466</th>\n",
              "      <td>Pro Evolution Soccer 2017</td>\n",
              "      <td>PS3</td>\n",
              "      <td>2016</td>\n",
              "      <td>Sports</td>\n",
              "      <td>Konami Digital Entertainment</td>\n",
              "      <td>0.01</td>\n",
              "      <td>0.05</td>\n",
              "      <td>0.06</td>\n",
              "      <td>0.01</td>\n",
              "      <td>0.13</td>\n",
              "    </tr>\n",
              "    <tr>\n",
              "      <th>...</th>\n",
              "      <td>...</td>\n",
              "      <td>...</td>\n",
              "      <td>...</td>\n",
              "      <td>...</td>\n",
              "      <td>...</td>\n",
              "      <td>...</td>\n",
              "      <td>...</td>\n",
              "      <td>...</td>\n",
              "      <td>...</td>\n",
              "      <td>...</td>\n",
              "    </tr>\n",
              "    <tr>\n",
              "      <th>1968</th>\n",
              "      <td>Defender</td>\n",
              "      <td>2600</td>\n",
              "      <td>1980</td>\n",
              "      <td>Misc</td>\n",
              "      <td>Atari</td>\n",
              "      <td>0.99</td>\n",
              "      <td>0.05</td>\n",
              "      <td>0.00</td>\n",
              "      <td>0.01</td>\n",
              "      <td>1.05</td>\n",
              "    </tr>\n",
              "    <tr>\n",
              "      <th>6301</th>\n",
              "      <td>Bridge</td>\n",
              "      <td>2600</td>\n",
              "      <td>1980</td>\n",
              "      <td>Misc</td>\n",
              "      <td>Activision</td>\n",
              "      <td>0.25</td>\n",
              "      <td>0.02</td>\n",
              "      <td>0.00</td>\n",
              "      <td>0.00</td>\n",
              "      <td>0.27</td>\n",
              "    </tr>\n",
              "    <tr>\n",
              "      <th>6876</th>\n",
              "      <td>Checkers</td>\n",
              "      <td>2600</td>\n",
              "      <td>1980</td>\n",
              "      <td>Misc</td>\n",
              "      <td>Atari</td>\n",
              "      <td>0.22</td>\n",
              "      <td>0.01</td>\n",
              "      <td>0.00</td>\n",
              "      <td>0.00</td>\n",
              "      <td>0.24</td>\n",
              "    </tr>\n",
              "    <tr>\n",
              "      <th>5360</th>\n",
              "      <td>Freeway</td>\n",
              "      <td>2600</td>\n",
              "      <td>1980</td>\n",
              "      <td>Action</td>\n",
              "      <td>Activision</td>\n",
              "      <td>0.32</td>\n",
              "      <td>0.02</td>\n",
              "      <td>0.00</td>\n",
              "      <td>0.00</td>\n",
              "      <td>0.34</td>\n",
              "    </tr>\n",
              "    <tr>\n",
              "      <th>262</th>\n",
              "      <td>Asteroids</td>\n",
              "      <td>2600</td>\n",
              "      <td>1980</td>\n",
              "      <td>Shooter</td>\n",
              "      <td>Atari</td>\n",
              "      <td>4.00</td>\n",
              "      <td>0.26</td>\n",
              "      <td>0.00</td>\n",
              "      <td>0.05</td>\n",
              "      <td>4.31</td>\n",
              "    </tr>\n",
              "  </tbody>\n",
              "</table>\n",
              "<p>12475 rows × 10 columns</p>\n",
              "</div>"
            ],
            "text/plain": [
              "                                    Name Platform  Year_of_Release    Genre  \\\n",
              "15866  Rocksmith 2014 Edition Remastered      PS4             2016     Misc   \n",
              "14606   Darius Burst: Chronicle Saviours      PSV             2016   Action   \n",
              "14573                           Terraria     WiiU             2016   Action   \n",
              "9630                            NBA 2K17      PS3             2016   Sports   \n",
              "9466           Pro Evolution Soccer 2017      PS3             2016   Sports   \n",
              "...                                  ...      ...              ...      ...   \n",
              "1968                            Defender     2600             1980     Misc   \n",
              "6301                              Bridge     2600             1980     Misc   \n",
              "6876                            Checkers     2600             1980     Misc   \n",
              "5360                             Freeway     2600             1980   Action   \n",
              "262                            Asteroids     2600             1980  Shooter   \n",
              "\n",
              "                          Publisher  NA_Sales  EU_Sales  JP_Sales  \\\n",
              "15866                       Ubisoft      0.01      0.00      0.00   \n",
              "14606                Kadokawa Games      0.00      0.00      0.03   \n",
              "14573                     505 Games      0.00      0.03      0.00   \n",
              "9630           Take-Two Interactive      0.06      0.04      0.00   \n",
              "9466   Konami Digital Entertainment      0.01      0.05      0.06   \n",
              "...                             ...       ...       ...       ...   \n",
              "1968                          Atari      0.99      0.05      0.00   \n",
              "6301                     Activision      0.25      0.02      0.00   \n",
              "6876                          Atari      0.22      0.01      0.00   \n",
              "5360                     Activision      0.32      0.02      0.00   \n",
              "262                           Atari      4.00      0.26      0.00   \n",
              "\n",
              "       Other_Sales  Global_Sales  \n",
              "15866         0.00          0.02  \n",
              "14606         0.00          0.03  \n",
              "14573         0.00          0.03  \n",
              "9630          0.02          0.13  \n",
              "9466          0.01          0.13  \n",
              "...            ...           ...  \n",
              "1968          0.01          1.05  \n",
              "6301          0.00          0.27  \n",
              "6876          0.00          0.24  \n",
              "5360          0.00          0.34  \n",
              "262           0.05          4.31  \n",
              "\n",
              "[12475 rows x 10 columns]"
            ]
          },
          "execution_count": 109,
          "metadata": {},
          "output_type": "execute_result"
        }
      ],
      "source": [
        "df_4 = df_4[df_4['Year_of_Release'] < 2017]\n",
        "\n",
        "df_4 = df_4.sort_values(by='Year_of_Release', ascending=False)\n",
        "\n",
        "df_4"
      ]
    },
    {
      "cell_type": "markdown",
      "metadata": {
        "id": "DetRRVuBSwrc"
      },
      "source": [
        "#### 3. Búsqueda de valores atípicos o outliers"
      ]
    },
    {
      "cell_type": "markdown",
      "metadata": {
        "id": "-ouYfrVXSwrc"
      },
      "source": [
        "Para ello, se procederá a graficar valores en histogramas y boxplots."
      ]
    },
    {
      "cell_type": "code",
      "execution_count": 110,
      "metadata": {
        "id": "1boBGPnuSwrn",
        "outputId": "1412427f-edf1-4d8b-8eda-990e8110e011"
      },
      "outputs": [
        {
          "data": {
            "text/html": [
              "<div>\n",
              "<style scoped>\n",
              "    .dataframe tbody tr th:only-of-type {\n",
              "        vertical-align: middle;\n",
              "    }\n",
              "\n",
              "    .dataframe tbody tr th {\n",
              "        vertical-align: top;\n",
              "    }\n",
              "\n",
              "    .dataframe thead th {\n",
              "        text-align: right;\n",
              "    }\n",
              "</style>\n",
              "<table border=\"1\" class=\"dataframe\">\n",
              "  <thead>\n",
              "    <tr style=\"text-align: right;\">\n",
              "      <th></th>\n",
              "      <th>Name</th>\n",
              "      <th>Platform</th>\n",
              "      <th>Year_of_Release</th>\n",
              "      <th>Genre</th>\n",
              "      <th>Publisher</th>\n",
              "      <th>NA_Sales</th>\n",
              "      <th>EU_Sales</th>\n",
              "      <th>JP_Sales</th>\n",
              "      <th>Other_Sales</th>\n",
              "      <th>Global_Sales</th>\n",
              "    </tr>\n",
              "  </thead>\n",
              "  <tbody>\n",
              "    <tr>\n",
              "      <th>15866</th>\n",
              "      <td>Rocksmith 2014 Edition Remastered</td>\n",
              "      <td>PS4</td>\n",
              "      <td>2016</td>\n",
              "      <td>Misc</td>\n",
              "      <td>Ubisoft</td>\n",
              "      <td>0.01</td>\n",
              "      <td>0.00</td>\n",
              "      <td>0.00</td>\n",
              "      <td>0.00</td>\n",
              "      <td>0.02</td>\n",
              "    </tr>\n",
              "    <tr>\n",
              "      <th>14606</th>\n",
              "      <td>Darius Burst: Chronicle Saviours</td>\n",
              "      <td>PSV</td>\n",
              "      <td>2016</td>\n",
              "      <td>Action</td>\n",
              "      <td>Kadokawa Games</td>\n",
              "      <td>0.00</td>\n",
              "      <td>0.00</td>\n",
              "      <td>0.03</td>\n",
              "      <td>0.00</td>\n",
              "      <td>0.03</td>\n",
              "    </tr>\n",
              "    <tr>\n",
              "      <th>14573</th>\n",
              "      <td>Terraria</td>\n",
              "      <td>WiiU</td>\n",
              "      <td>2016</td>\n",
              "      <td>Action</td>\n",
              "      <td>505 Games</td>\n",
              "      <td>0.00</td>\n",
              "      <td>0.03</td>\n",
              "      <td>0.00</td>\n",
              "      <td>0.00</td>\n",
              "      <td>0.03</td>\n",
              "    </tr>\n",
              "    <tr>\n",
              "      <th>9630</th>\n",
              "      <td>NBA 2K17</td>\n",
              "      <td>PS3</td>\n",
              "      <td>2016</td>\n",
              "      <td>Sports</td>\n",
              "      <td>Take-Two Interactive</td>\n",
              "      <td>0.06</td>\n",
              "      <td>0.04</td>\n",
              "      <td>0.00</td>\n",
              "      <td>0.02</td>\n",
              "      <td>0.13</td>\n",
              "    </tr>\n",
              "    <tr>\n",
              "      <th>9466</th>\n",
              "      <td>Pro Evolution Soccer 2017</td>\n",
              "      <td>PS3</td>\n",
              "      <td>2016</td>\n",
              "      <td>Sports</td>\n",
              "      <td>Konami Digital Entertainment</td>\n",
              "      <td>0.01</td>\n",
              "      <td>0.05</td>\n",
              "      <td>0.06</td>\n",
              "      <td>0.01</td>\n",
              "      <td>0.13</td>\n",
              "    </tr>\n",
              "  </tbody>\n",
              "</table>\n",
              "</div>"
            ],
            "text/plain": [
              "                                    Name Platform  Year_of_Release   Genre  \\\n",
              "15866  Rocksmith 2014 Edition Remastered      PS4             2016    Misc   \n",
              "14606   Darius Burst: Chronicle Saviours      PSV             2016  Action   \n",
              "14573                           Terraria     WiiU             2016  Action   \n",
              "9630                            NBA 2K17      PS3             2016  Sports   \n",
              "9466           Pro Evolution Soccer 2017      PS3             2016  Sports   \n",
              "\n",
              "                          Publisher  NA_Sales  EU_Sales  JP_Sales  \\\n",
              "15866                       Ubisoft      0.01      0.00      0.00   \n",
              "14606                Kadokawa Games      0.00      0.00      0.03   \n",
              "14573                     505 Games      0.00      0.03      0.00   \n",
              "9630           Take-Two Interactive      0.06      0.04      0.00   \n",
              "9466   Konami Digital Entertainment      0.01      0.05      0.06   \n",
              "\n",
              "       Other_Sales  Global_Sales  \n",
              "15866         0.00          0.02  \n",
              "14606         0.00          0.03  \n",
              "14573         0.00          0.03  \n",
              "9630          0.02          0.13  \n",
              "9466          0.01          0.13  "
            ]
          },
          "execution_count": 110,
          "metadata": {},
          "output_type": "execute_result"
        }
      ],
      "source": [
        "df_4.head()"
      ]
    },
    {
      "cell_type": "code",
      "execution_count": 111,
      "metadata": {
        "id": "zADkghCBSwrn",
        "outputId": "3a058b9c-64ac-482d-b16d-0b557d245fa7"
      },
      "outputs": [
        {
          "data": {
            "image/png": "[encoded data removed]",
            "text/plain": [
              "<Figure size 1400x200 with 1 Axes>"
            ]
          },
          "metadata": {},
          "output_type": "display_data"
        }
      ],
      "source": [
        "# Crear el boxplot para 'Year_of_Release' en horizontal\n",
        "plt.figure(figsize=(14, 2))\n",
        "plt.boxplot(df_4['Year_of_Release'], vert=False, patch_artist=True, boxprops=dict(facecolor='#474559', color='white'))\n",
        "plt.title('Boxplot de Year_of_Release')\n",
        "plt.ylabel('Year_of_Release')\n",
        "plt.show()"
      ]
    },
    {
      "cell_type": "code",
      "execution_count": 112,
      "metadata": {
        "id": "mEItYWWISwro",
        "outputId": "fbb15eb6-fda9-4846-c932-fbb37cf25efe"
      },
      "outputs": [
        {
          "data": {
            "image/png": "[encoded data removed]",
            "text/plain": [
              "<Figure size 1400x200 with 1 Axes>"
            ]
          },
          "metadata": {},
          "output_type": "display_data"
        }
      ],
      "source": [
        "# Crear el boxplot para 'NA_Sales' en horizontal\n",
        "plt.figure(figsize=(14, 2))\n",
        "plt.boxplot(df_4['NA_Sales'], vert=False, patch_artist=True, boxprops=dict(facecolor='#474559', color='white'))\n",
        "plt.title('Boxplot de NA_Sales')\n",
        "plt.ylabel('NA_Sales')\n",
        "plt.show()"
      ]
    },
    {
      "cell_type": "code",
      "execution_count": 113,
      "metadata": {
        "id": "tMS5x1irSwro",
        "outputId": "5a3d347c-b8fc-48cf-dd18-a513c3129edd"
      },
      "outputs": [
        {
          "data": {
            "image/png": "[encoded data removed]",
            "text/plain": [
              "<Figure size 1400x200 with 1 Axes>"
            ]
          },
          "metadata": {},
          "output_type": "display_data"
        }
      ],
      "source": [
        "# Crear el boxplot para 'EU_Sales' en horizontal\n",
        "plt.figure(figsize=(14, 2))\n",
        "plt.boxplot(df_4['EU_Sales'], vert=False, patch_artist=True, boxprops=dict(facecolor='#474559', color='white'))\n",
        "plt.title('Boxplot de EU_Sales')\n",
        "plt.ylabel('EU_Sales')\n",
        "plt.show()"
      ]
    },
    {
      "cell_type": "code",
      "execution_count": 114,
      "metadata": {
        "id": "wFZ-DWvASwrp",
        "outputId": "e89881ff-1de5-4fd9-9c08-2799583ec0b2"
      },
      "outputs": [
        {
          "data": {
            "image/png": "[encoded data removed]",
            "text/plain": [
              "<Figure size 1400x200 with 1 Axes>"
            ]
          },
          "metadata": {},
          "output_type": "display_data"
        }
      ],
      "source": [
        "# Crear el boxplot para 'JP_Sales' en horizontal\n",
        "plt.figure(figsize=(14, 2))\n",
        "plt.boxplot(df_4['JP_Sales'], vert=False, patch_artist=True, boxprops=dict(facecolor='#474559', color='white'))\n",
        "plt.title('Boxplot de JP_Sales')\n",
        "plt.ylabel('JP_Sales')\n",
        "plt.show()"
      ]
    },
    {
      "cell_type": "code",
      "execution_count": 115,
      "metadata": {
        "id": "Lyu66QZPSwrq",
        "outputId": "2abd0e5f-4c3f-400f-9e3f-a6983ee17c59"
      },
      "outputs": [
        {
          "data": {
            "image/png": "[encoded data removed]",
            "text/plain": [
              "<Figure size 1400x200 with 1 Axes>"
            ]
          },
          "metadata": {},
          "output_type": "display_data"
        }
      ],
      "source": [
        "# Crear el boxplot para 'Other_Sales' en horizontal\n",
        "plt.figure(figsize=(14, 2))\n",
        "plt.boxplot(df_4['Other_Sales'], vert=False, patch_artist=True, boxprops=dict(facecolor='#474559', color='white'))\n",
        "plt.title('Boxplot de Other_Sales')\n",
        "plt.ylabel('Other_Sales')\n",
        "plt.show()"
      ]
    },
    {
      "cell_type": "code",
      "execution_count": 116,
      "metadata": {
        "id": "OoyAHDGWSwrq",
        "outputId": "a34b0cbe-bb61-4275-f85b-2006d6b4b22d"
      },
      "outputs": [
        {
          "data": {
            "image/png": "[encoded data removed]",
            "text/plain": [
              "<Figure size 1400x200 with 1 Axes>"
            ]
          },
          "metadata": {},
          "output_type": "display_data"
        }
      ],
      "source": [
        "# Crear el boxplot para 'Global_Sales' en horizontal\n",
        "plt.figure(figsize=(14, 2))\n",
        "plt.boxplot(df_4['Global_Sales'], vert=False, patch_artist=True, boxprops=dict(facecolor='#474559', color='white'))\n",
        "plt.title('Boxplot de Global_Sales')\n",
        "plt.ylabel('Global_Sales')\n",
        "plt.show()"
      ]
    },
    {
      "cell_type": "markdown",
      "metadata": {
        "id": "BNzZFx5aSwrr"
      },
      "source": [
        "Observaciones:\n",
        "* Se observan valores outliers pero dentro de la distribución desgada.\n",
        "* Year_of_Release tiene distribucación sesgada hacia la izquierda lo que quiere decir que la producción de juegos ha ido en aumento.\n",
        "* Las restantes columnas de Sales tienen distribución sesgada hacia la derecha, lo que quiere decir que la mediana de ventas es de valor entre 0 y 1, pero hay muchos valores dispersos, y cuanto más te alejas menos valores encuentras. Es decir, es dificil lograr grandes ventas en un juego."
      ]
    },
    {
      "cell_type": "markdown",
      "metadata": {
        "id": "jCcOKAyzSwrr"
      },
      "source": [
        "#### 4. Análisis de tendencia"
      ]
    },
    {
      "cell_type": "markdown",
      "metadata": {
        "id": "SGk1uUUWSwrw"
      },
      "source": [
        "#### 5. Análisis de correlación entre variables"
      ]
    },
    {
      "cell_type": "code",
      "execution_count": 117,
      "metadata": {
        "id": "47ePuKthSwr1",
        "outputId": "281b236b-d3f9-4e50-a2f0-1c1985e6f6c3"
      },
      "outputs": [
        {
          "data": {
            "text/plain": [
              "Index(['Name', 'Platform', 'Year_of_Release', 'Genre', 'Publisher', 'NA_Sales',\n",
              "       'EU_Sales', 'JP_Sales', 'Other_Sales', 'Global_Sales'],\n",
              "      dtype='object')"
            ]
          },
          "execution_count": 117,
          "metadata": {},
          "output_type": "execute_result"
        }
      ],
      "source": [
        "df_4.columns"
      ]
    },
    {
      "cell_type": "code",
      "execution_count": 118,
      "metadata": {
        "id": "ikzG6UUQSwr2",
        "outputId": "6ed89ae0-62d1-4c0b-aec2-747a16a3dd58"
      },
      "outputs": [
        {
          "data": {
            "image/png": "[encoded data removed]",
            "text/plain": [
              "<Figure size 640x480 with 2 Axes>"
            ]
          },
          "metadata": {},
          "output_type": "display_data"
        }
      ],
      "source": [
        "# Calcular la matriz de correlación incluyendo la columna\n",
        "df_4_corr = df_4[['NA_Sales', 'EU_Sales', 'JP_Sales', 'Other_Sales']].corr()\n",
        "\n",
        "# Visualizar la matriz de correlación\n",
        "sns.heatmap(df_4_corr, annot=True, cmap='coolwarm')\n",
        "plt.title('Matriz de Correlación')\n",
        "plt.show()"
      ]
    },
    {
      "cell_type": "markdown",
      "metadata": {
        "id": "Hr5xZG5uSwr2"
      },
      "source": [
        "Observaciones:\n",
        "* Se observan correlaciones positivas pero no existe multicolinealidad"
      ]
    },
    {
      "cell_type": "markdown",
      "metadata": {
        "id": "swqrzGPfSwr3"
      },
      "source": [
        "#### Análisis de duplicados"
      ]
    },
    {
      "cell_type": "code",
      "execution_count": 119,
      "metadata": {
        "id": "F411zDfTSwr3",
        "outputId": "92139052-d2a5-4282-93dc-7dece4874575"
      },
      "outputs": [
        {
          "name": "stdout",
          "output_type": "stream",
          "text": [
            "Filas duplicadas:\n",
            "Empty DataFrame\n",
            "Columns: [Name, Platform, Year_of_Release, Genre, Publisher, NA_Sales, EU_Sales, JP_Sales, Other_Sales, Global_Sales]\n",
            "Index: []\n",
            "Numero de filas duplicadas: 0\n",
            "No se encuentran duplicadas en el dataframe df_4\n"
          ]
        }
      ],
      "source": [
        "# Identificar duplicados\n",
        "\n",
        "duplicated_rows_4 = df_4.duplicated()\n",
        "\n",
        "# Mostrar filas duplicadas\n",
        "print(\"Filas duplicadas:\")\n",
        "\n",
        "print(df_4[duplicated_rows_4])\n",
        "\n",
        "# Contar el número de filas duplicadas\n",
        "\n",
        "num_duplicated_rows_4 = duplicated_rows_4.sum()\n",
        "\n",
        "print(f\"Numero de filas duplicadas: {num_duplicated_rows_4}\")\n",
        "\n",
        "if num_duplicated_rows_4 == 0:\n",
        "    print('No se encuentran duplicadas en el dataframe df_4')"
      ]
    },
    {
      "cell_type": "markdown",
      "metadata": {
        "id": "1lb7AUBCSwr4"
      },
      "source": [
        "#### Exportación de los DataFrames"
      ]
    },
    {
      "cell_type": "code",
      "execution_count": 120,
      "metadata": {
        "id": "lhK9BsbzSwr4"
      },
      "outputs": [],
      "source": [
        "df_4.to_csv('dataset_clean/Videogames.csv', index=False)"
      ]
    },
    {
      "cell_type": "markdown",
      "metadata": {
        "id": "32MMHvMuSwr5"
      },
      "source": [
        "#### Conclusiones"
      ]
    },
    {
      "cell_type": "markdown",
      "metadata": {
        "id": "k69E3JPzSwr6"
      },
      "source": []
    }
  ],
  "metadata": {
    "colab": {
      "provenance": []
    },
    "kernelspec": {
      "display_name": "venv",
      "language": "python",
      "name": "python3"
    },
    "language_info": {
      "codemirror_mode": {
        "name": "ipython",
        "version": 3
      },
      "file_extension": ".py",
      "mimetype": "text/x-python",
      "name": "python",
      "nbconvert_exporter": "python",
      "pygments_lexer": "ipython3",
      "version": "3.11.5"
    }
  },
  "nbformat": 4,
  "nbformat_minor": 0
}
