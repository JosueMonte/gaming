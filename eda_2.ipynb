{
 "cells": [
  {
   "cell_type": "markdown",
   "metadata": {},
   "source": [
    "# Proyecto individual de DA: Gaming"
   ]
  },
  {
   "cell_type": "markdown",
   "metadata": {},
   "source": [
    "## Objetivo de negocio:\n",
    "Grupo inversor está dispuesto a invertir en el desarrollo de nuevos productos, para ello, nos solicitar lo siguietne:\n",
    "* Analizar el mercado de videojuegos.\n",
    "* Identificar posibles nichos para desarrollar nuevos productos.\n",
    "* Encontrar los insights y presentarlos."
   ]
  },
  {
   "cell_type": "markdown",
   "metadata": {},
   "source": [
    "### Preguntas a considerar y responder\n",
    "\n",
    "* ¿Qué análisis podemos hacer del mercado actual?\n",
    "* ¿Qué lineamientos generales deberá tener en cuenta el grupo inversor a la hora de determinar el primer juego de la empresa, para lograr aprovechar al máximo las tendencias del mercado, y así lograr el objetivo planteado?\n",
    "* ¿Qué diferencias encontramos entre las distintas plataformas?\n",
    "* ¿Qué relación podemos considerar en cuanto a la población e ingresos per cápita de los países? \n",
    "* ¿En qué regiones conviene enfocarse?\n",
    "* ¿Podemos determinar algo con respecto a los rangos etarios u otras características demográficas?\n",
    "* ¿Podemos estimar las ventas de los juegos actuales o al menos de una categoría? Shooters por ejemplo."
   ]
  },
  {
   "cell_type": "markdown",
   "metadata": {},
   "source": [
    "### Dataset a utilizar\n",
    "| Archivos:\n",
    "| ------ \n",
    "| Indicadores_del_desarrollo_humano_mundial Banco Mundial Indicadores de desarrollo humano. \n",
    "| Console_sales Reporte de ventas anuales de consolas. por marca y modelo. \n",
    "| Juegos en steam. Reporte con estadísticas de uso de juegos en Steam. Incluye recomendaciones  tiempo de uso, etc. \n",
    "| Video Games Sales Reporte de ventas por Video Juego y Plataforma. Incluye ranking y apertura por mercados (NA, EU, Japón y Global). "
   ]
  },
  {
   "cell_type": "markdown",
   "metadata": {},
   "source": [
    "## Fases de trabajo\n",
    "1. Análisis exploratorio de datos para determinar las transformaciones de variables apropiadas, identificar patrones, y conclusiones.\n",
    "2. Construir KPIs que se integren con el dashboard:\n",
    "   1.  *Aumentar en un 10% las ventas por sector para el próximo trimestre.*\n",
    "   2.  *Aumentar en un 10% la plataforma Steam.*\n",
    "3. Construir un dashboard interactivo, funcional utilizando filtros adecuados.\n",
    "4. Generar un readme.md que describa el desarrollo del proyecto y sus correspondientes conclusiones.\n",
    "5. Narrar un storytelling en 10'."
   ]
  },
  {
   "cell_type": "markdown",
   "metadata": {},
   "source": [
    "> ## 1. Análisis exploratorio de los datos"
   ]
  },
  {
   "cell_type": "markdown",
   "metadata": {},
   "source": [
    "#### Procesos a realizar:\n",
    "1. Búsqueda de valores faltantes\n",
    "2. Valores atípicos u outliers\n",
    "3. Análisis univariado y bivariado\n",
    "4. Registros duplicados\n",
    "5. Conclusiones"
   ]
  },
  {
   "cell_type": "markdown",
   "metadata": {},
   "source": [
    "#### 1.1. Importar Librería"
   ]
  },
  {
   "cell_type": "code",
   "execution_count": null,
   "metadata": {},
   "outputs": [],
   "source": [
    "import pandas as pd\n",
    "import numpy as np\n",
    "import matplotlib.pyplot as plt\n",
    "import seaborn as sns\n",
    "import plotly.express as px\n",
    "from plotly.subplots import make_subplots\n",
    "import plotly.graph_objects as go\n",
    "from math import ceil\n",
    "\n",
    "from scipy import stats\n",
    "\n",
    "%matplotlib inline\n",
    "plt.style.use('ggplot')\n",
    "\n",
    "import warnings\n",
    "warnings.filterwarnings('ignore')"
   ]
  },
  {
   "cell_type": "markdown",
   "metadata": {},
   "source": [
    "#### 1.3. Creación del DataFrame 2_Console_sales"
   ]
  },
  {
   "cell_type": "code",
   "execution_count": null,
   "metadata": {},
   "outputs": [],
   "source": [
    "df_2 = pd.read_excel('dataset/2_Console_sales.xlsx', sheet_name='Ventas anual')"
   ]
  },
  {
   "cell_type": "code",
   "execution_count": null,
   "metadata": {},
   "outputs": [],
   "source": [
    "df_2"
   ]
  },
  {
   "cell_type": "code",
   "execution_count": null,
   "metadata": {},
   "outputs": [],
   "source": [
    "df_2.columns"
   ]
  },
  {
   "cell_type": "code",
   "execution_count": null,
   "metadata": {},
   "outputs": [],
   "source": [
    "df_2.info()"
   ]
  },
  {
   "cell_type": "markdown",
   "metadata": {},
   "source": [
    "#### 1.4. Creación del DataFrame 3_Juegos_steam"
   ]
  },
  {
   "cell_type": "code",
   "execution_count": null,
   "metadata": {},
   "outputs": [],
   "source": [
    "df_3 = pd.read_csv('dataset/3_Juegos_steam.csv')"
   ]
  },
  {
   "cell_type": "code",
   "execution_count": null,
   "metadata": {},
   "outputs": [],
   "source": [
    "df_3"
   ]
  },
  {
   "cell_type": "code",
   "execution_count": null,
   "metadata": {},
   "outputs": [],
   "source": [
    "df_3.columns"
   ]
  },
  {
   "cell_type": "code",
   "execution_count": null,
   "metadata": {},
   "outputs": [],
   "source": [
    "df_3.info()"
   ]
  },
  {
   "cell_type": "code",
   "execution_count": null,
   "metadata": {},
   "outputs": [],
   "source": [
    "df_3 = df_3.dropna()"
   ]
  },
  {
   "cell_type": "code",
   "execution_count": null,
   "metadata": {},
   "outputs": [],
   "source": [
    "df_3.info()"
   ]
  },
  {
   "cell_type": "markdown",
   "metadata": {},
   "source": [
    "Dado que todos los demas dataframe están en mayuscula al principio, se opta por hacer este dataframe tambien de la misma forma"
   ]
  },
  {
   "cell_type": "code",
   "execution_count": null,
   "metadata": {},
   "outputs": [],
   "source": [
    "df_3.columns = df_3.columns.str.replace('_', ' ').str.title().str.replace(' ', '_')\n",
    "df_3.columns"
   ]
  },
  {
   "cell_type": "markdown",
   "metadata": {},
   "source": [
    "#### 1.5. Creación del DataFrame 4_Video_games_sales"
   ]
  },
  {
   "cell_type": "code",
   "execution_count": null,
   "metadata": {},
   "outputs": [],
   "source": [
    "df_4 = pd.read_csv('dataset/4_Video_games_sales.csv')"
   ]
  },
  {
   "cell_type": "code",
   "execution_count": null,
   "metadata": {},
   "outputs": [],
   "source": [
    "df_4    "
   ]
  },
  {
   "cell_type": "code",
   "execution_count": null,
   "metadata": {},
   "outputs": [],
   "source": [
    "df_4.columns"
   ]
  },
  {
   "cell_type": "code",
   "execution_count": null,
   "metadata": {},
   "outputs": [],
   "source": [
    "df_4.info()"
   ]
  },
  {
   "cell_type": "code",
   "execution_count": null,
   "metadata": {},
   "outputs": [],
   "source": [
    "df_4['Critic_Score']"
   ]
  },
  {
   "cell_type": "markdown",
   "metadata": {},
   "source": [
    "Se observa que existen columnas con casi la mitad de filas, por lo cual, no se considerarán. \n",
    "* Critic_Score\n",
    "* Critic_Count\n",
    "* User_Count\n",
    "* User_Score\n",
    "* Rating\n",
    "* Developer"
   ]
  },
  {
   "cell_type": "code",
   "execution_count": null,
   "metadata": {},
   "outputs": [],
   "source": [
    "df_4.columns"
   ]
  },
  {
   "cell_type": "code",
   "execution_count": null,
   "metadata": {},
   "outputs": [],
   "source": [
    "df_4 = df_4.drop(columns=['Critic_Score', 'Critic_Count', 'User_Count', 'User_Score', 'Rating', 'Developer'])"
   ]
  },
  {
   "cell_type": "code",
   "execution_count": null,
   "metadata": {},
   "outputs": [],
   "source": [
    "df_4 = df_4.dropna()"
   ]
  },
  {
   "cell_type": "code",
   "execution_count": null,
   "metadata": {},
   "outputs": [],
   "source": [
    "df_4.info()"
   ]
  },
  {
   "cell_type": "markdown",
   "metadata": {},
   "source": [
    "#### 1.6. Observaciones\n",
    "\n",
    "* Los tamaños de los DataFrame son pequeños y probablemente no existan problemas al trabarlos en un tablero de control.\n",
    "* Se han eliminado algunas columnas por datos faltantes. Pero se resolverá en análisis posteriores si se eliminan más por irrelevancia.\n",
    "* Se observa que el dataframe df_1_1 tiene una estructura rara. Se resolverá más adelante si se normaliza o se deja como está.\n",
    "* Se ha observado cambiar los nombres de las columnas del df_3 para que queden todos iguales."
   ]
  },
  {
   "cell_type": "markdown",
   "metadata": {},
   "source": [
    "#### 2.1. Análisis de nulos"
   ]
  },
  {
   "cell_type": "code",
   "execution_count": null,
   "metadata": {},
   "outputs": [],
   "source": [
    "df_2.isnull().sum()"
   ]
  },
  {
   "cell_type": "code",
   "execution_count": null,
   "metadata": {},
   "outputs": [],
   "source": [
    "df_3.isnull().sum()"
   ]
  },
  {
   "cell_type": "code",
   "execution_count": null,
   "metadata": {},
   "outputs": [],
   "source": [
    "df_4.isnull().sum()"
   ]
  },
  {
   "cell_type": "markdown",
   "metadata": {},
   "source": [
    "#### 2.2. Normalizacion de valores"
   ]
  },
  {
   "cell_type": "markdown",
   "metadata": {},
   "source": [
    "#### 2.3. Observaciones:\n",
    "* No se observan nulos."
   ]
  },
  {
   "cell_type": "markdown",
   "metadata": {},
   "source": [
    "#### 3. Búsqueda de valores atípicos o outliers"
   ]
  },
  {
   "cell_type": "markdown",
   "metadata": {},
   "source": [
    "Para ello, se procederá a graficar valores en histogramas y boxplots."
   ]
  },
  {
   "cell_type": "markdown",
   "metadata": {},
   "source": [
    "**Consideraciones**: existe la problemática de la línea del tiempo en el dataframe df_1_1. "
   ]
  },
  {
   "cell_type": "markdown",
   "metadata": {},
   "source": [
    "##### 3.1. Distribución de los valores en columnas numéricas"
   ]
  },
  {
   "cell_type": "markdown",
   "metadata": {},
   "source": [
    "##### 3.1.2. df_2"
   ]
  },
  {
   "cell_type": "code",
   "execution_count": null,
   "metadata": {},
   "outputs": [],
   "source": [
    "# Mostrar todo el DataFrame df_2\n",
    "pd.set_option('display.max_rows', None)  # Mostrar todas las filas\n",
    "\n",
    "df_2\n"
   ]
  },
  {
   "cell_type": "code",
   "execution_count": null,
   "metadata": {},
   "outputs": [],
   "source": [
    "# Crear el histograma solo para 'Sales'\n",
    "plt.figure(figsize=(14, 8))\n",
    "plt.hist(df_2['Sales'], bins=50, color='#474559', edgecolor='white')\n",
    "plt.title('Histograma de Sales')\n",
    "plt.xlabel('Sales')\n",
    "plt.ylabel('Frecuencia')\n",
    "plt.show()"
   ]
  },
  {
   "cell_type": "code",
   "execution_count": null,
   "metadata": {},
   "outputs": [],
   "source": [
    "# Crear el boxplot para 'Sales' en vertical\n",
    "plt.figure(figsize=(14, 2))\n",
    "plt.boxplot(df_2['Sales'], vert=False, patch_artist=True, boxprops=dict(facecolor='#474559', color='white'))\n",
    "plt.title('Boxplot de Sales')\n",
    "plt.ylabel('Sales')\n",
    "plt.show()"
   ]
  },
  {
   "cell_type": "markdown",
   "metadata": {},
   "source": [
    "Observaciones: \n",
    "* se observa que los valores negativos en la columna Sales corresponden a valores Out_of_use, y se eliminan por considerarse atípicos y que no aportan a un análisis de inversiones."
   ]
  },
  {
   "cell_type": "code",
   "execution_count": null,
   "metadata": {},
   "outputs": [],
   "source": [
    "df_2 = df_2[df_2['Sales'] >= 0]"
   ]
  },
  {
   "cell_type": "code",
   "execution_count": null,
   "metadata": {},
   "outputs": [],
   "source": [
    "# Crear el histograma solo para 'Sales'\n",
    "plt.figure(figsize=(10, 5))\n",
    "plt.hist(df_2['Sales'], bins=10, color='#474559', edgecolor='white')\n",
    "plt.title('Histograma de Sales')\n",
    "plt.xlabel('Sales')\n",
    "plt.ylabel('Frecuencia')\n",
    "plt.show()"
   ]
  },
  {
   "cell_type": "code",
   "execution_count": null,
   "metadata": {},
   "outputs": [],
   "source": [
    "# Crear el boxplot para 'Sales' en vertical\n",
    "plt.figure(figsize=(14, 2))\n",
    "plt.boxplot(df_2['Sales'], vert=False, patch_artist=True, boxprops=dict(facecolor='#474559', color='white'))\n",
    "plt.title('Boxplot de Sales')\n",
    "plt.ylabel('Sales')\n",
    "plt.show()"
   ]
  },
  {
   "cell_type": "markdown",
   "metadata": {},
   "source": [
    "Observaciones: se observa que la mediana de Sales es de 7 millones usd. Hasta 15 millones usd parece probable. Son pocos los casos donde se superan los 20 millones usd."
   ]
  },
  {
   "cell_type": "markdown",
   "metadata": {},
   "source": [
    "##### 3.1.3. df_3"
   ]
  },
  {
   "cell_type": "code",
   "execution_count": null,
   "metadata": {},
   "outputs": [],
   "source": [
    "df_3.head()"
   ]
  },
  {
   "cell_type": "code",
   "execution_count": null,
   "metadata": {},
   "outputs": [],
   "source": [
    "df_3.columns"
   ]
  },
  {
   "cell_type": "code",
   "execution_count": null,
   "metadata": {},
   "outputs": [],
   "source": [
    "# Crear el histograma solo para 'English'\n",
    "plt.figure(figsize=(10, 5))\n",
    "plt.hist(df_3['English'], bins=10, color='#474559', edgecolor='white')\n",
    "plt.title('Histograma de English')\n",
    "plt.xlabel('English')\n",
    "plt.ylabel('Frecuencia')\n",
    "plt.show()"
   ]
  },
  {
   "cell_type": "code",
   "execution_count": null,
   "metadata": {},
   "outputs": [],
   "source": [
    "# Crear el histograma solo para 'Required_Age'\n",
    "plt.figure(figsize=(10, 5))\n",
    "plt.hist(df_3['Required_Age'], bins=10, color='#474559', edgecolor='white')\n",
    "plt.title('Histograma de Required_Age')\n",
    "plt.xlabel('Required_Age')\n",
    "plt.ylabel('Frecuencia')\n",
    "plt.show()"
   ]
  },
  {
   "cell_type": "code",
   "execution_count": null,
   "metadata": {},
   "outputs": [],
   "source": [
    "# Crear el boxplot para 'Achievements' en horizontal\n",
    "plt.figure(figsize=(14, 2))\n",
    "plt.boxplot(df_3['Achievements'], vert=False, patch_artist=True, boxprops=dict(facecolor='#474559', color='white'))\n",
    "plt.title('Boxplot de Achievements')\n",
    "plt.ylabel('Achievments')\n",
    "plt.show()"
   ]
  },
  {
   "cell_type": "code",
   "execution_count": null,
   "metadata": {},
   "outputs": [],
   "source": [
    "# Crear el boxplot para 'Positive_Ratings' en horizontal\n",
    "plt.figure(figsize=(14, 2))\n",
    "plt.boxplot(df_3['Positive_Ratings'], vert=False, patch_artist=True, boxprops=dict(facecolor='#474559', color='white'))\n",
    "plt.title('Boxplot de Positive_Ratings')\n",
    "plt.ylabel('Positive_Ratings')\n",
    "plt.show()"
   ]
  },
  {
   "cell_type": "code",
   "execution_count": null,
   "metadata": {},
   "outputs": [],
   "source": [
    "# Crear el boxplot para 'Negative_Ratings' en horizontal\n",
    "plt.figure(figsize=(14, 2))\n",
    "plt.boxplot(df_3['Negative_Ratings'], vert=False, patch_artist=True, boxprops=dict(facecolor='#474559', color='white'))\n",
    "plt.title('Boxplot de Negative_Ratings')\n",
    "plt.ylabel('Negative_Ratings')\n",
    "plt.show()"
   ]
  },
  {
   "cell_type": "code",
   "execution_count": null,
   "metadata": {},
   "outputs": [],
   "source": [
    "# Crear el boxplot para 'Average_Playtime' en horizontal\n",
    "plt.figure(figsize=(14, 2))\n",
    "plt.boxplot(df_3['Average_Playtime'], vert=False, patch_artist=True, boxprops=dict(facecolor='#474559', color='white'))\n",
    "plt.title('Boxplot de Average_Playtime')\n",
    "plt.ylabel('Average_Playtime')\n",
    "plt.show()"
   ]
  },
  {
   "cell_type": "code",
   "execution_count": null,
   "metadata": {},
   "outputs": [],
   "source": [
    "# Crear el boxplot para 'Median_Playtime' en horizontal\n",
    "plt.figure(figsize=(14, 2))\n",
    "plt.boxplot(df_3['Median_Playtime'], vert=False, patch_artist=True, boxprops=dict(facecolor='#474559', color='white'))\n",
    "plt.title('Boxplot de Median_Playtime')\n",
    "plt.ylabel('Median_Playtime')\n",
    "plt.show()"
   ]
  },
  {
   "cell_type": "code",
   "execution_count": null,
   "metadata": {},
   "outputs": [],
   "source": [
    "# Crear el histograma solo para 'Owners'\n",
    "plt.figure(figsize=(20, 10))\n",
    "plt.hist(df_3['Owners'], bins=10, color='#474559', edgecolor='white')\n",
    "plt.title('Histograma de Owners')\n",
    "plt.xlabel('Owners')\n",
    "plt.ylabel('Frecuencia')\n",
    "plt.show()"
   ]
  },
  {
   "cell_type": "code",
   "execution_count": null,
   "metadata": {},
   "outputs": [],
   "source": [
    "# Crear el boxplot para 'Price' en horizontal\n",
    "plt.figure(figsize=(14, 2))\n",
    "plt.boxplot(df_3['Price'], vert=False, patch_artist=True, boxprops=dict(facecolor='#474559', color='white'))\n",
    "plt.title('Boxplot de Price')\n",
    "plt.ylabel('Price')\n",
    "plt.show()"
   ]
  },
  {
   "cell_type": "markdown",
   "metadata": {},
   "source": [
    "Observaciones:\n",
    "* Se utilizó boxplot cuando el histograma no aporta información al respecto.\n",
    "* La columna achievements parece no entregar información y por lo cual se la eliminará.\n",
    "* Si bien se observan valores outliers en \"Price\", \"Owner\", \"Median_Platyime\", \"Average_Playtime\", \"Positive_Ratings\", \"Negative_Ratings\"; se deben a su distribución sesgada hacia la derecha. Y por el lado de \"Required_Age\" se observa que la edad general es 0 y po el lado del \"English\" se observa que practicamente todos los juegos están en inglés."
   ]
  },
  {
   "cell_type": "markdown",
   "metadata": {},
   "source": [
    "##### 3.1.4. df_4"
   ]
  },
  {
   "cell_type": "code",
   "execution_count": null,
   "metadata": {},
   "outputs": [],
   "source": [
    "df_4.head()"
   ]
  },
  {
   "cell_type": "code",
   "execution_count": null,
   "metadata": {},
   "outputs": [],
   "source": [
    "# Crear el boxplot para 'Year_of_Release' en horizontal\n",
    "plt.figure(figsize=(14, 2))\n",
    "plt.boxplot(df_4['Year_of_Release'], vert=False, patch_artist=True, boxprops=dict(facecolor='#474559', color='white'))\n",
    "plt.title('Boxplot de Year_of_Release')\n",
    "plt.ylabel('Year_of_Release')\n",
    "plt.show()"
   ]
  },
  {
   "cell_type": "code",
   "execution_count": null,
   "metadata": {},
   "outputs": [],
   "source": [
    "# Crear el boxplot para 'NA_Sales' en horizontal\n",
    "plt.figure(figsize=(14, 2))\n",
    "plt.boxplot(df_4['NA_Sales'], vert=False, patch_artist=True, boxprops=dict(facecolor='#474559', color='white'))\n",
    "plt.title('Boxplot de NA_Sales')\n",
    "plt.ylabel('NA_Sales')\n",
    "plt.show()"
   ]
  },
  {
   "cell_type": "code",
   "execution_count": null,
   "metadata": {},
   "outputs": [],
   "source": [
    "# Crear el boxplot para 'EU_Sales' en horizontal\n",
    "plt.figure(figsize=(14, 2))\n",
    "plt.boxplot(df_4['EU_Sales'], vert=False, patch_artist=True, boxprops=dict(facecolor='#474559', color='white'))\n",
    "plt.title('Boxplot de EU_Sales')\n",
    "plt.ylabel('EU_Sales')\n",
    "plt.show()"
   ]
  },
  {
   "cell_type": "code",
   "execution_count": null,
   "metadata": {},
   "outputs": [],
   "source": [
    "# Crear el boxplot para 'JP_Sales' en horizontal\n",
    "plt.figure(figsize=(14, 2))\n",
    "plt.boxplot(df_4['JP_Sales'], vert=False, patch_artist=True, boxprops=dict(facecolor='#474559', color='white'))\n",
    "plt.title('Boxplot de JP_Sales')\n",
    "plt.ylabel('JP_Sales')\n",
    "plt.show()"
   ]
  },
  {
   "cell_type": "code",
   "execution_count": null,
   "metadata": {},
   "outputs": [],
   "source": [
    "# Crear el boxplot para 'Other_Sales' en horizontal\n",
    "plt.figure(figsize=(14, 2))\n",
    "plt.boxplot(df_4['Other_Sales'], vert=False, patch_artist=True, boxprops=dict(facecolor='#474559', color='white'))\n",
    "plt.title('Boxplot de Other_Sales')\n",
    "plt.ylabel('Other_Sales')\n",
    "plt.show()"
   ]
  },
  {
   "cell_type": "code",
   "execution_count": null,
   "metadata": {},
   "outputs": [],
   "source": [
    "# Crear el boxplot para 'Global_Sales' en horizontal\n",
    "plt.figure(figsize=(14, 2))\n",
    "plt.boxplot(df_4['Global_Sales'], vert=False, patch_artist=True, boxprops=dict(facecolor='#474559', color='white'))\n",
    "plt.title('Boxplot de Global_Sales')\n",
    "plt.ylabel('Global_Sales')\n",
    "plt.show()"
   ]
  },
  {
   "cell_type": "markdown",
   "metadata": {},
   "source": [
    "Observaciones:\n",
    "* Se observan valores outliers pero dentro de la distribución desgada.\n",
    "* Year_of_Release tiene distribucación sesgada hacia la izquierda lo que quiere decir que la producción de juegos ha ido en aumento.\n",
    "* Las restantes columnas de Sales tienen distribución sesgada hacia la derecha, lo que quiere decir que la mediana de ventas es de valor entre 0 y 1, pero hay muchos valores dispersos, y cuanto más te alejas menos valores encuentras. Es decir, es dificil lograr grandes ventas en un juego."
   ]
  },
  {
   "cell_type": "markdown",
   "metadata": {},
   "source": [
    "#### 4. Análisis de tendencia"
   ]
  },
  {
   "cell_type": "markdown",
   "metadata": {},
   "source": [
    "**Consideraciones**: se seguirá el modelo del análisis de outliers pero analizando por tiempo."
   ]
  },
  {
   "cell_type": "markdown",
   "metadata": {},
   "source": [
    "#### Análisis de correlación entre variables"
   ]
  },
  {
   "cell_type": "markdown",
   "metadata": {},
   "source": [
    "df_3"
   ]
  },
  {
   "cell_type": "code",
   "execution_count": null,
   "metadata": {},
   "outputs": [],
   "source": [
    "df_3.columns"
   ]
  },
  {
   "cell_type": "code",
   "execution_count": null,
   "metadata": {},
   "outputs": [],
   "source": [
    "# Función para calcular la media de un rango\n",
    "def calcular_media(rango):\n",
    "    valores = list(map(int, rango.split('-')))\n",
    "    return np.mean(valores)\n",
    "\n",
    "# Calcular la media para la columna 'Owner'\n",
    "df_3['Owner_Media'] = df_3['Owners'].apply(calcular_media)\n",
    "\n",
    "# Calcular la matriz de correlación incluyendo la columna   \n",
    "df_3_corr = df_3[['Owner_Media', 'Achievements', 'Positive_Ratings', 'Negative_Ratings', 'Average_Playtime', 'Median_Playtime', 'Price']].corr()\n",
    "\n",
    "# Visualizar la matriz de correlación\n",
    "sns.heatmap(df_3_corr, annot=True, cmap='coolwarm')\n",
    "plt.title('Matriz de Correlación')\n",
    "plt.show()"
   ]
  },
  {
   "cell_type": "markdown",
   "metadata": {},
   "source": [
    "Observaciones:\n",
    "* No se realiza un análisis con datos categóricos porque son muchos en cada columna y hay que hacer encoding y sería demasiado complejo, y trasciende los límites de este proyecto.\n",
    "* Se observa que existe mucha correlación entre la Average_Playtime y Median_Playtime, por lo tanto, se puede hacer una media entre las dos y quitar ambas columnas para eliminar multicolinealidad."
   ]
  },
  {
   "cell_type": "code",
   "execution_count": null,
   "metadata": {},
   "outputs": [],
   "source": [
    "# Calcular el promedio con pesos iguales\n",
    "df_3['Equal_Weighted_Playtime'] = (df_3['Median_Playtime'] + df_3['Average_Playtime']) / 2"
   ]
  },
  {
   "cell_type": "code",
   "execution_count": null,
   "metadata": {},
   "outputs": [],
   "source": [
    "# Calcular la matriz de correlación incluyendo la columna 'Owner_Media'\n",
    "df_3_corr = df_3[['Owner_Media', 'Achievements', 'Positive_Ratings', 'Negative_Ratings', 'Equal_Weighted_Playtime', 'Price']].corr()\n",
    "\n",
    "# Visualizar la matriz de correlación\n",
    "sns.heatmap(df_3_corr, annot=True, cmap='coolwarm')\n",
    "plt.title('Matriz de Correlación')\n",
    "plt.show()"
   ]
  },
  {
   "cell_type": "markdown",
   "metadata": {},
   "source": [
    "Observaciones:\n",
    "* Se observa ahora que no existe multicolinealidad, no existe prácticamente valores negativos, es decir, aspectos que estén descorrelacionados, pero además la mayoria son cercanos a 0.\n",
    "* Se nota también que a medida que aumentan el número de Oweners, también aumetnan los Postive_Ratings, y también los Negative_Ratings"
   ]
  },
  {
   "cell_type": "code",
   "execution_count": null,
   "metadata": {},
   "outputs": [],
   "source": [
    "df_4.columns"
   ]
  },
  {
   "cell_type": "code",
   "execution_count": null,
   "metadata": {},
   "outputs": [],
   "source": [
    "# Calcular la matriz de correlación incluyendo la columna   \n",
    "df_4_corr = df_4[['NA_Sales', 'EU_Sales', 'JP_Sales', 'Other_Sales']].corr()\n",
    "\n",
    "# Visualizar la matriz de correlación\n",
    "sns.heatmap(df_4_corr, annot=True, cmap='coolwarm')\n",
    "plt.title('Matriz de Correlación')\n",
    "plt.show()"
   ]
  },
  {
   "cell_type": "markdown",
   "metadata": {},
   "source": [
    "Observaciones:\n",
    "* Se observan correlaciones positivas pero no existe multicolinealidad "
   ]
  },
  {
   "cell_type": "markdown",
   "metadata": {},
   "source": [
    "#### Análisis de duplicados"
   ]
  },
  {
   "cell_type": "markdown",
   "metadata": {},
   "source": [
    "#### Exportación de los DataFrames"
   ]
  },
  {
   "cell_type": "markdown",
   "metadata": {},
   "source": [
    "#### Conclusiones"
   ]
  }
 ],
 "metadata": {
  "kernelspec": {
   "display_name": "Python 3",
   "language": "python",
   "name": "python3"
  },
  "language_info": {
   "codemirror_mode": {
    "name": "ipython",
    "version": 3
   },
   "file_extension": ".py",
   "mimetype": "text/x-python",
   "name": "python",
   "nbconvert_exporter": "python",
   "pygments_lexer": "ipython3",
   "version": "3.11.5"
  }
 },
 "nbformat": 4,
 "nbformat_minor": 2
}
