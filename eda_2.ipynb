{
  "cells": [
    {
      "cell_type": "markdown",
      "metadata": {
        "id": "1C5rwF24_0zB"
      },
      "source": [
        "# Proyecto individual de DA: Gaming"
      ]
    },
    {
      "cell_type": "markdown",
      "metadata": {
        "id": "ceIDLsNh_0zL"
      },
      "source": [
        "## Objetivo de negocio:\n",
        "Grupo inversor está dispuesto a invertir en el desarrollo de nuevos productos, para ello, nos solicitar lo siguietne:\n",
        "* Analizar el mercado de videojuegos.\n",
        "* Identificar posibles nichos para desarrollar nuevos productos.\n",
        "* Encontrar los insights y presentarlos."
      ]
    },
    {
      "cell_type": "markdown",
      "metadata": {
        "id": "b8KLPWWt_0zN"
      },
      "source": [
        "### Preguntas a considerar y responder\n",
        "\n",
        "* ¿Qué análisis podemos hacer del mercado actual?\n",
        "* ¿Qué lineamientos generales deberá tener en cuenta el grupo inversor a la hora de determinar el primer juego de la empresa, para lograr aprovechar al máximo las tendencias del mercado, y así lograr el objetivo planteado?\n",
        "* ¿Qué diferencias encontramos entre las distintas plataformas?\n",
        "* ¿Qué relación podemos considerar en cuanto a la población e ingresos per cápita de los países?\n",
        "* ¿En qué regiones conviene enfocarse?\n",
        "* ¿Podemos determinar algo con respecto a los rangos etarios u otras características demográficas?\n",
        "* ¿Podemos estimar las ventas de los juegos actuales o al menos de una categoría? Shooters por ejemplo."
      ]
    },
    {
      "cell_type": "markdown",
      "metadata": {
        "id": "o-5HmBLN_0zO"
      },
      "source": [
        "### Dataset a utilizar\n",
        "| Archivos:\n",
        "| ------\n",
        "| Indicadores_del_desarrollo_humano_mundial Banco Mundial Indicadores de desarrollo humano.\n",
        "| Console_sales Reporte de ventas anuales de consolas. por marca y modelo.\n",
        "| Juegos en steam. Reporte con estadísticas de uso de juegos en Steam. Incluye recomendaciones  tiempo de uso, etc.\n",
        "| Video Games Sales Reporte de ventas por Video Juego y Plataforma. Incluye ranking y apertura por mercados (NA, EU, Japón y Global)."
      ]
    },
    {
      "cell_type": "markdown",
      "metadata": {
        "id": "1uEH105i_0zP"
      },
      "source": [
        "## Fases de trabajo\n",
        "1. Análisis exploratorio de datos para determinar las transformaciones de variables apropiadas, identificar patrones, y conclusiones.\n",
        "2. Construir KPIs que se integren con el dashboard:\n",
        "   1.  *Aumentar en un 10% las ventas por sector para el próximo trimestre.*\n",
        "   2.  *Aumentar en un 10% la plataforma Steam.*\n",
        "3. Construir un dashboard interactivo, funcional utilizando filtros adecuados.\n",
        "4. Generar un readme.md que describa el desarrollo del proyecto y sus correspondientes conclusiones.\n",
        "5. Narrar un storytelling en 10'."
      ]
    },
    {
      "cell_type": "markdown",
      "metadata": {
        "id": "kZMRxxWb_0zP"
      },
      "source": [
        "## 1. Análisis exploratorio de los datos"
      ]
    },
    {
      "cell_type": "markdown",
      "metadata": {
        "id": "apF4zLeX_0zP"
      },
      "source": [
        "#### Procesos a realizar:\n",
        "1. Búsqueda de valores faltantes\n",
        "2. Valores atípicos u outliers\n",
        "3. Análisis univariado y bivariado\n",
        "4. Registros duplicados\n",
        "5. Conclusiones"
      ]
    },
    {
      "cell_type": "markdown",
      "metadata": {
        "id": "JEToIb_O_0zQ"
      },
      "source": [
        "#### 1.1. Importar Librería"
      ]
    },
    {
      "cell_type": "code",
      "execution_count": 1,
      "metadata": {
        "id": "EmydEdmL_0zR"
      },
      "outputs": [],
      "source": [
        "import pandas as pd\n",
        "import numpy as np\n",
        "import matplotlib.pyplot as plt\n",
        "import seaborn as sns\n",
        "import plotly.express as px\n",
        "from plotly.subplots import make_subplots\n",
        "import plotly.graph_objects as go\n",
        "from math import ceil\n",
        "from scipy.stats import pearsonr\n",
        "\n",
        "from scipy import stats\n",
        "\n",
        "%matplotlib inline\n",
        "plt.style.use('ggplot')\n",
        "\n",
        "import warnings\n",
        "warnings.filterwarnings('ignore')"
      ]
    },
    {
      "cell_type": "markdown",
      "metadata": {
        "id": "iUDpNs9c_0zS"
      },
      "source": [
        "#### 1.3. Creación del DataFrame 2_Console_sales"
      ]
    },
    {
      "cell_type": "code",
      "execution_count": null,
      "metadata": {
        "id": "rFyj0O0z_0zT"
      },
      "outputs": [],
      "source": [
        "df_2 = pd.read_excel('dataset/2_Console_sales.xlsx', sheet_name='Ventas anual')"
      ]
    },
    {
      "cell_type": "code",
      "execution_count": 3,
      "metadata": {
        "id": "P9aYQDAF_0zT",
        "outputId": "f469a0f0-02b5-4c94-f390-4deeb9dd351e"
      },
      "outputs": [
        {
          "data": {
            "text/html": [
              "<div>\n",
              "<style scoped>\n",
              "    .dataframe tbody tr th:only-of-type {\n",
              "        vertical-align: middle;\n",
              "    }\n",
              "\n",
              "    .dataframe tbody tr th {\n",
              "        vertical-align: top;\n",
              "    }\n",
              "\n",
              "    .dataframe thead th {\n",
              "        text-align: right;\n",
              "    }\n",
              "</style>\n",
              "<table border=\"1\" class=\"dataframe\">\n",
              "  <thead>\n",
              "    <tr style=\"text-align: right;\">\n",
              "      <th></th>\n",
              "      <th>Year</th>\n",
              "      <th>Dato</th>\n",
              "      <th>Console</th>\n",
              "      <th>Company</th>\n",
              "      <th>Sales</th>\n",
              "    </tr>\n",
              "  </thead>\n",
              "  <tbody>\n",
              "    <tr>\n",
              "      <th>0</th>\n",
              "      <td>2011</td>\n",
              "      <td>anual</td>\n",
              "      <td>Nintendo 3DS</td>\n",
              "      <td>Nintendo</td>\n",
              "      <td>12560000.0</td>\n",
              "    </tr>\n",
              "    <tr>\n",
              "      <th>1</th>\n",
              "      <td>2012</td>\n",
              "      <td>anual</td>\n",
              "      <td>Nintendo 3DS</td>\n",
              "      <td>Nintendo</td>\n",
              "      <td>13480000.0</td>\n",
              "    </tr>\n",
              "    <tr>\n",
              "      <th>2</th>\n",
              "      <td>2013</td>\n",
              "      <td>anual</td>\n",
              "      <td>Nintendo 3DS</td>\n",
              "      <td>Nintendo</td>\n",
              "      <td>14310000.0</td>\n",
              "    </tr>\n",
              "    <tr>\n",
              "      <th>3</th>\n",
              "      <td>2014</td>\n",
              "      <td>anual</td>\n",
              "      <td>Nintendo 3DS</td>\n",
              "      <td>Nintendo</td>\n",
              "      <td>9740000.0</td>\n",
              "    </tr>\n",
              "    <tr>\n",
              "      <th>4</th>\n",
              "      <td>2015</td>\n",
              "      <td>anual</td>\n",
              "      <td>Nintendo 3DS</td>\n",
              "      <td>Nintendo</td>\n",
              "      <td>7330000.0</td>\n",
              "    </tr>\n",
              "    <tr>\n",
              "      <th>...</th>\n",
              "      <td>...</td>\n",
              "      <td>...</td>\n",
              "      <td>...</td>\n",
              "      <td>...</td>\n",
              "      <td>...</td>\n",
              "    </tr>\n",
              "    <tr>\n",
              "      <th>79</th>\n",
              "      <td>2014</td>\n",
              "      <td>anual</td>\n",
              "      <td>Xbox360</td>\n",
              "      <td>Microsoft</td>\n",
              "      <td>2600000.0</td>\n",
              "    </tr>\n",
              "    <tr>\n",
              "      <th>80</th>\n",
              "      <td>2015</td>\n",
              "      <td>anual</td>\n",
              "      <td>Xbox360</td>\n",
              "      <td>Microsoft</td>\n",
              "      <td>930000.0</td>\n",
              "    </tr>\n",
              "    <tr>\n",
              "      <th>81</th>\n",
              "      <td>2016</td>\n",
              "      <td>anual</td>\n",
              "      <td>Xbox360</td>\n",
              "      <td>Microsoft</td>\n",
              "      <td>390000.0</td>\n",
              "    </tr>\n",
              "    <tr>\n",
              "      <th>82</th>\n",
              "      <td>2017</td>\n",
              "      <td>anual</td>\n",
              "      <td>Xbox360</td>\n",
              "      <td>Microsoft</td>\n",
              "      <td>60000.0</td>\n",
              "    </tr>\n",
              "    <tr>\n",
              "      <th>83</th>\n",
              "      <td>2018</td>\n",
              "      <td>Out_of_use</td>\n",
              "      <td>Xbox360</td>\n",
              "      <td>Microsoft</td>\n",
              "      <td>-69910000.0</td>\n",
              "    </tr>\n",
              "  </tbody>\n",
              "</table>\n",
              "<p>84 rows × 5 columns</p>\n",
              "</div>"
            ],
            "text/plain": [
              "    Year        Dato       Console    Company       Sales\n",
              "0   2011       anual  Nintendo 3DS   Nintendo  12560000.0\n",
              "1   2012       anual  Nintendo 3DS   Nintendo  13480000.0\n",
              "2   2013       anual  Nintendo 3DS   Nintendo  14310000.0\n",
              "3   2014       anual  Nintendo 3DS   Nintendo   9740000.0\n",
              "4   2015       anual  Nintendo 3DS   Nintendo   7330000.0\n",
              "..   ...         ...           ...        ...         ...\n",
              "79  2014       anual       Xbox360  Microsoft   2600000.0\n",
              "80  2015       anual       Xbox360  Microsoft    930000.0\n",
              "81  2016       anual       Xbox360  Microsoft    390000.0\n",
              "82  2017       anual       Xbox360  Microsoft     60000.0\n",
              "83  2018  Out_of_use       Xbox360  Microsoft -69910000.0\n",
              "\n",
              "[84 rows x 5 columns]"
            ]
          },
          "execution_count": 3,
          "metadata": {},
          "output_type": "execute_result"
        }
      ],
      "source": [
        "df_2"
      ]
    },
    {
      "cell_type": "code",
      "execution_count": 4,
      "metadata": {
        "id": "T65A4bZk_0zV",
        "outputId": "4fe68ce5-a74d-4016-e648-de7a4e0e3927"
      },
      "outputs": [
        {
          "data": {
            "text/plain": [
              "Index(['Year', 'Dato', 'Console', 'Company', 'Sales'], dtype='object')"
            ]
          },
          "execution_count": 4,
          "metadata": {},
          "output_type": "execute_result"
        }
      ],
      "source": [
        "df_2.columns"
      ]
    },
    {
      "cell_type": "code",
      "execution_count": 5,
      "metadata": {
        "id": "yCTtjU_F_0zW",
        "outputId": "0b461bd1-ca9f-46aa-bcdc-0592518457c9"
      },
      "outputs": [
        {
          "name": "stdout",
          "output_type": "stream",
          "text": [
            "<class 'pandas.core.frame.DataFrame'>\n",
            "RangeIndex: 84 entries, 0 to 83\n",
            "Data columns (total 5 columns):\n",
            " #   Column   Non-Null Count  Dtype  \n",
            "---  ------   --------------  -----  \n",
            " 0   Year     84 non-null     int64  \n",
            " 1   Dato     84 non-null     object \n",
            " 2   Console  84 non-null     object \n",
            " 3   Company  84 non-null     object \n",
            " 4   Sales    84 non-null     float64\n",
            "dtypes: float64(1), int64(1), object(3)\n",
            "memory usage: 3.4+ KB\n"
          ]
        }
      ],
      "source": [
        "df_2.info()"
      ]
    },
    {
      "cell_type": "markdown",
      "metadata": {
        "id": "V4FRAf7j_0zW"
      },
      "source": [
        "#### 1.4. Creación del DataFrame 3_Juegos_steam"
      ]
    },
    {
      "cell_type": "markdown",
      "metadata": {
        "id": "HiNyY4MD_0zY"
      },
      "source": [
        "Dado que todos los demas dataframe están en mayuscula al principio, se opta por hacer este dataframe tambien de la misma forma"
      ]
    },
    {
      "cell_type": "markdown",
      "metadata": {
        "id": "2tQOsf7E_0zZ"
      },
      "source": [
        "#### 1.5. Creación del DataFrame 4_Video_games_sales"
      ]
    },
    {
      "cell_type": "markdown",
      "metadata": {
        "id": "SXIxYDhw_0za"
      },
      "source": [
        "Se observa que existen columnas con casi la mitad de filas, por lo cual, no se considerarán.\n",
        "* Critic_Score\n",
        "* Critic_Count\n",
        "* User_Count\n",
        "* User_Score\n",
        "* Rating\n",
        "* Developer"
      ]
    },
    {
      "cell_type": "markdown",
      "metadata": {
        "id": "4fxKi5Um_0zb"
      },
      "source": [
        "#### 1.6. Observaciones\n",
        "\n",
        "* Los tamaños de los DataFrame son pequeños y probablemente no existan problemas al trabarlos en un tablero de control.\n",
        "* Se han eliminado algunas columnas por datos faltantes. Pero se resolverá en análisis posteriores si se eliminan más por irrelevancia.\n",
        "* Se observa que el dataframe df_1_1 tiene una estructura rara. Se resolverá más adelante si se normaliza o se deja como está.\n",
        "* Se ha observado cambiar los nombres de las columnas del df_3 para que queden todos iguales."
      ]
    },
    {
      "cell_type": "markdown",
      "metadata": {
        "id": "rj9zBvtg_0zb"
      },
      "source": [
        "#### 2.1. Análisis de nulos"
      ]
    },
    {
      "cell_type": "code",
      "execution_count": 6,
      "metadata": {
        "id": "ZhzIdQl-_0zc",
        "outputId": "0c4a59ae-a837-4bd5-84d2-2f1cfab1b5fd"
      },
      "outputs": [
        {
          "data": {
            "text/plain": [
              "Year       0\n",
              "Dato       0\n",
              "Console    0\n",
              "Company    0\n",
              "Sales      0\n",
              "dtype: int64"
            ]
          },
          "execution_count": 6,
          "metadata": {},
          "output_type": "execute_result"
        }
      ],
      "source": [
        "df_2.isnull().sum()"
      ]
    },
    {
      "cell_type": "markdown",
      "metadata": {
        "id": "fvGi9D5N_0zk"
      },
      "source": [
        "#### 2.2. Normalizacion de valores"
      ]
    },
    {
      "cell_type": "markdown",
      "metadata": {
        "id": "AnwDDo26_0zk"
      },
      "source": [
        "#### 2.3. Observaciones:\n",
        "* No se observan nulos."
      ]
    },
    {
      "cell_type": "markdown",
      "metadata": {
        "id": "QUf5Hkch_0zl"
      },
      "source": [
        "#### 3. Búsqueda de valores atípicos o outliers"
      ]
    },
    {
      "cell_type": "markdown",
      "metadata": {
        "id": "mont11p0_0zm"
      },
      "source": [
        "##### 3.1. Distribución de los valores en columnas numéricas"
      ]
    },
    {
      "cell_type": "code",
      "execution_count": 7,
      "metadata": {
        "id": "9KgDZy4l_0zm",
        "outputId": "d41ae890-7047-4ce1-af51-c59633166a29"
      },
      "outputs": [
        {
          "data": {
            "text/html": [
              "<div>\n",
              "<style scoped>\n",
              "    .dataframe tbody tr th:only-of-type {\n",
              "        vertical-align: middle;\n",
              "    }\n",
              "\n",
              "    .dataframe tbody tr th {\n",
              "        vertical-align: top;\n",
              "    }\n",
              "\n",
              "    .dataframe thead th {\n",
              "        text-align: right;\n",
              "    }\n",
              "</style>\n",
              "<table border=\"1\" class=\"dataframe\">\n",
              "  <thead>\n",
              "    <tr style=\"text-align: right;\">\n",
              "      <th></th>\n",
              "      <th>Year</th>\n",
              "      <th>Dato</th>\n",
              "      <th>Console</th>\n",
              "      <th>Company</th>\n",
              "      <th>Sales</th>\n",
              "    </tr>\n",
              "  </thead>\n",
              "  <tbody>\n",
              "    <tr>\n",
              "      <th>0</th>\n",
              "      <td>2011</td>\n",
              "      <td>anual</td>\n",
              "      <td>Nintendo 3DS</td>\n",
              "      <td>Nintendo</td>\n",
              "      <td>12560000.0</td>\n",
              "    </tr>\n",
              "    <tr>\n",
              "      <th>1</th>\n",
              "      <td>2012</td>\n",
              "      <td>anual</td>\n",
              "      <td>Nintendo 3DS</td>\n",
              "      <td>Nintendo</td>\n",
              "      <td>13480000.0</td>\n",
              "    </tr>\n",
              "    <tr>\n",
              "      <th>2</th>\n",
              "      <td>2013</td>\n",
              "      <td>anual</td>\n",
              "      <td>Nintendo 3DS</td>\n",
              "      <td>Nintendo</td>\n",
              "      <td>14310000.0</td>\n",
              "    </tr>\n",
              "    <tr>\n",
              "      <th>3</th>\n",
              "      <td>2014</td>\n",
              "      <td>anual</td>\n",
              "      <td>Nintendo 3DS</td>\n",
              "      <td>Nintendo</td>\n",
              "      <td>9740000.0</td>\n",
              "    </tr>\n",
              "    <tr>\n",
              "      <th>4</th>\n",
              "      <td>2015</td>\n",
              "      <td>anual</td>\n",
              "      <td>Nintendo 3DS</td>\n",
              "      <td>Nintendo</td>\n",
              "      <td>7330000.0</td>\n",
              "    </tr>\n",
              "    <tr>\n",
              "      <th>5</th>\n",
              "      <td>2016</td>\n",
              "      <td>anual</td>\n",
              "      <td>Nintendo 3DS</td>\n",
              "      <td>Nintendo</td>\n",
              "      <td>7590000.0</td>\n",
              "    </tr>\n",
              "    <tr>\n",
              "      <th>6</th>\n",
              "      <td>2017</td>\n",
              "      <td>anual</td>\n",
              "      <td>Nintendo 3DS</td>\n",
              "      <td>Nintendo</td>\n",
              "      <td>6190000.0</td>\n",
              "    </tr>\n",
              "    <tr>\n",
              "      <th>7</th>\n",
              "      <td>2018</td>\n",
              "      <td>anual</td>\n",
              "      <td>Nintendo 3DS</td>\n",
              "      <td>Nintendo</td>\n",
              "      <td>3500000.0</td>\n",
              "    </tr>\n",
              "    <tr>\n",
              "      <th>8</th>\n",
              "      <td>2008</td>\n",
              "      <td>anual</td>\n",
              "      <td>Nintendo DS</td>\n",
              "      <td>Nintendo</td>\n",
              "      <td>29470000.0</td>\n",
              "    </tr>\n",
              "    <tr>\n",
              "      <th>9</th>\n",
              "      <td>2009</td>\n",
              "      <td>anual</td>\n",
              "      <td>Nintendo DS</td>\n",
              "      <td>Nintendo</td>\n",
              "      <td>27280000.0</td>\n",
              "    </tr>\n",
              "    <tr>\n",
              "      <th>10</th>\n",
              "      <td>2010</td>\n",
              "      <td>anual</td>\n",
              "      <td>Nintendo DS</td>\n",
              "      <td>Nintendo</td>\n",
              "      <td>20550000.0</td>\n",
              "    </tr>\n",
              "    <tr>\n",
              "      <th>11</th>\n",
              "      <td>2011</td>\n",
              "      <td>anual</td>\n",
              "      <td>Nintendo DS</td>\n",
              "      <td>Nintendo</td>\n",
              "      <td>8760000.0</td>\n",
              "    </tr>\n",
              "    <tr>\n",
              "      <th>12</th>\n",
              "      <td>2012</td>\n",
              "      <td>anual</td>\n",
              "      <td>Nintendo DS</td>\n",
              "      <td>Nintendo</td>\n",
              "      <td>3010000.0</td>\n",
              "    </tr>\n",
              "    <tr>\n",
              "      <th>13</th>\n",
              "      <td>2013</td>\n",
              "      <td>anual</td>\n",
              "      <td>Nintendo DS</td>\n",
              "      <td>Nintendo</td>\n",
              "      <td>820000.0</td>\n",
              "    </tr>\n",
              "    <tr>\n",
              "      <th>14</th>\n",
              "      <td>2014</td>\n",
              "      <td>Out_of_use</td>\n",
              "      <td>Nintendo DS</td>\n",
              "      <td>Nintendo</td>\n",
              "      <td>-89890000.0</td>\n",
              "    </tr>\n",
              "    <tr>\n",
              "      <th>15</th>\n",
              "      <td>2017</td>\n",
              "      <td>anual</td>\n",
              "      <td>Nintendo Switch</td>\n",
              "      <td>Nintendo</td>\n",
              "      <td>11850000.0</td>\n",
              "    </tr>\n",
              "    <tr>\n",
              "      <th>16</th>\n",
              "      <td>2018</td>\n",
              "      <td>anual</td>\n",
              "      <td>Nintendo Switch</td>\n",
              "      <td>Nintendo</td>\n",
              "      <td>17050000.0</td>\n",
              "    </tr>\n",
              "    <tr>\n",
              "      <th>17</th>\n",
              "      <td>2008</td>\n",
              "      <td>anual</td>\n",
              "      <td>Nintendo Wii</td>\n",
              "      <td>Nintendo</td>\n",
              "      <td>24090000.0</td>\n",
              "    </tr>\n",
              "    <tr>\n",
              "      <th>18</th>\n",
              "      <td>2009</td>\n",
              "      <td>anual</td>\n",
              "      <td>Nintendo Wii</td>\n",
              "      <td>Nintendo</td>\n",
              "      <td>21050000.0</td>\n",
              "    </tr>\n",
              "    <tr>\n",
              "      <th>19</th>\n",
              "      <td>2010</td>\n",
              "      <td>anual</td>\n",
              "      <td>Nintendo Wii</td>\n",
              "      <td>Nintendo</td>\n",
              "      <td>17260000.0</td>\n",
              "    </tr>\n",
              "    <tr>\n",
              "      <th>20</th>\n",
              "      <td>2011</td>\n",
              "      <td>anual</td>\n",
              "      <td>Nintendo Wii</td>\n",
              "      <td>Nintendo</td>\n",
              "      <td>11490000.0</td>\n",
              "    </tr>\n",
              "    <tr>\n",
              "      <th>21</th>\n",
              "      <td>2012</td>\n",
              "      <td>anual</td>\n",
              "      <td>Nintendo Wii</td>\n",
              "      <td>Nintendo</td>\n",
              "      <td>5080000.0</td>\n",
              "    </tr>\n",
              "    <tr>\n",
              "      <th>22</th>\n",
              "      <td>2013</td>\n",
              "      <td>anual</td>\n",
              "      <td>Nintendo Wii</td>\n",
              "      <td>Nintendo</td>\n",
              "      <td>1950000.0</td>\n",
              "    </tr>\n",
              "    <tr>\n",
              "      <th>23</th>\n",
              "      <td>2014</td>\n",
              "      <td>anual</td>\n",
              "      <td>Nintendo Wii</td>\n",
              "      <td>Nintendo</td>\n",
              "      <td>520000.0</td>\n",
              "    </tr>\n",
              "    <tr>\n",
              "      <th>24</th>\n",
              "      <td>2015</td>\n",
              "      <td>anual</td>\n",
              "      <td>Nintendo Wii</td>\n",
              "      <td>Nintendo</td>\n",
              "      <td>70000.0</td>\n",
              "    </tr>\n",
              "    <tr>\n",
              "      <th>25</th>\n",
              "      <td>2016</td>\n",
              "      <td>Out_of_use</td>\n",
              "      <td>Nintendo Wii</td>\n",
              "      <td>Nintendo</td>\n",
              "      <td>-81510000.0</td>\n",
              "    </tr>\n",
              "    <tr>\n",
              "      <th>26</th>\n",
              "      <td>2012</td>\n",
              "      <td>anual</td>\n",
              "      <td>Nintendo Wii U</td>\n",
              "      <td>Nintendo</td>\n",
              "      <td>2170000.0</td>\n",
              "    </tr>\n",
              "    <tr>\n",
              "      <th>27</th>\n",
              "      <td>2013</td>\n",
              "      <td>anual</td>\n",
              "      <td>Nintendo Wii U</td>\n",
              "      <td>Nintendo</td>\n",
              "      <td>3100000.0</td>\n",
              "    </tr>\n",
              "    <tr>\n",
              "      <th>28</th>\n",
              "      <td>2014</td>\n",
              "      <td>anual</td>\n",
              "      <td>Nintendo Wii U</td>\n",
              "      <td>Nintendo</td>\n",
              "      <td>3640000.0</td>\n",
              "    </tr>\n",
              "    <tr>\n",
              "      <th>29</th>\n",
              "      <td>2015</td>\n",
              "      <td>anual</td>\n",
              "      <td>Nintendo Wii U</td>\n",
              "      <td>Nintendo</td>\n",
              "      <td>3460000.0</td>\n",
              "    </tr>\n",
              "    <tr>\n",
              "      <th>30</th>\n",
              "      <td>2016</td>\n",
              "      <td>anual</td>\n",
              "      <td>Nintendo Wii U</td>\n",
              "      <td>Nintendo</td>\n",
              "      <td>1160000.0</td>\n",
              "    </tr>\n",
              "    <tr>\n",
              "      <th>31</th>\n",
              "      <td>2017</td>\n",
              "      <td>anual</td>\n",
              "      <td>Nintendo Wii U</td>\n",
              "      <td>Nintendo</td>\n",
              "      <td>100000.0</td>\n",
              "    </tr>\n",
              "    <tr>\n",
              "      <th>32</th>\n",
              "      <td>2018</td>\n",
              "      <td>Out_of_use</td>\n",
              "      <td>Nintendo Wii U</td>\n",
              "      <td>Nintendo</td>\n",
              "      <td>-13630000.0</td>\n",
              "    </tr>\n",
              "    <tr>\n",
              "      <th>33</th>\n",
              "      <td>2011</td>\n",
              "      <td>anual</td>\n",
              "      <td>Sony PS Vita</td>\n",
              "      <td>Sony</td>\n",
              "      <td>480000.0</td>\n",
              "    </tr>\n",
              "    <tr>\n",
              "      <th>34</th>\n",
              "      <td>2012</td>\n",
              "      <td>anual</td>\n",
              "      <td>Sony PS Vita</td>\n",
              "      <td>Sony</td>\n",
              "      <td>3690000.0</td>\n",
              "    </tr>\n",
              "    <tr>\n",
              "      <th>35</th>\n",
              "      <td>2013</td>\n",
              "      <td>anual</td>\n",
              "      <td>Sony PS Vita</td>\n",
              "      <td>Sony</td>\n",
              "      <td>3400000.0</td>\n",
              "    </tr>\n",
              "    <tr>\n",
              "      <th>36</th>\n",
              "      <td>2014</td>\n",
              "      <td>anual</td>\n",
              "      <td>Sony PS Vita</td>\n",
              "      <td>Sony</td>\n",
              "      <td>2300000.0</td>\n",
              "    </tr>\n",
              "    <tr>\n",
              "      <th>37</th>\n",
              "      <td>2015</td>\n",
              "      <td>anual</td>\n",
              "      <td>Sony PS Vita</td>\n",
              "      <td>Sony</td>\n",
              "      <td>2680000.0</td>\n",
              "    </tr>\n",
              "    <tr>\n",
              "      <th>38</th>\n",
              "      <td>2016</td>\n",
              "      <td>anual</td>\n",
              "      <td>Sony PS Vita</td>\n",
              "      <td>Sony</td>\n",
              "      <td>2040000.0</td>\n",
              "    </tr>\n",
              "    <tr>\n",
              "      <th>39</th>\n",
              "      <td>2017</td>\n",
              "      <td>anual</td>\n",
              "      <td>Sony PS Vita</td>\n",
              "      <td>Sony</td>\n",
              "      <td>720000.0</td>\n",
              "    </tr>\n",
              "    <tr>\n",
              "      <th>40</th>\n",
              "      <td>2018</td>\n",
              "      <td>anual</td>\n",
              "      <td>Sony PS Vita</td>\n",
              "      <td>Sony</td>\n",
              "      <td>220000.0</td>\n",
              "    </tr>\n",
              "    <tr>\n",
              "      <th>41</th>\n",
              "      <td>2018</td>\n",
              "      <td>Out_of_use</td>\n",
              "      <td>Sony PS Vita</td>\n",
              "      <td>Sony</td>\n",
              "      <td>-15530000.0</td>\n",
              "    </tr>\n",
              "    <tr>\n",
              "      <th>42</th>\n",
              "      <td>2008</td>\n",
              "      <td>anual</td>\n",
              "      <td>Sony PS3</td>\n",
              "      <td>Sony</td>\n",
              "      <td>10460000.0</td>\n",
              "    </tr>\n",
              "    <tr>\n",
              "      <th>43</th>\n",
              "      <td>2009</td>\n",
              "      <td>anual</td>\n",
              "      <td>Sony PS3</td>\n",
              "      <td>Sony</td>\n",
              "      <td>13260000.0</td>\n",
              "    </tr>\n",
              "    <tr>\n",
              "      <th>44</th>\n",
              "      <td>2010</td>\n",
              "      <td>anual</td>\n",
              "      <td>Sony PS3</td>\n",
              "      <td>Sony</td>\n",
              "      <td>13830000.0</td>\n",
              "    </tr>\n",
              "    <tr>\n",
              "      <th>45</th>\n",
              "      <td>2011</td>\n",
              "      <td>anual</td>\n",
              "      <td>Sony PS3</td>\n",
              "      <td>Sony</td>\n",
              "      <td>14420000.0</td>\n",
              "    </tr>\n",
              "    <tr>\n",
              "      <th>46</th>\n",
              "      <td>2012</td>\n",
              "      <td>anual</td>\n",
              "      <td>Sony PS3</td>\n",
              "      <td>Sony</td>\n",
              "      <td>11970000.0</td>\n",
              "    </tr>\n",
              "    <tr>\n",
              "      <th>47</th>\n",
              "      <td>2013</td>\n",
              "      <td>anual</td>\n",
              "      <td>Sony PS3</td>\n",
              "      <td>Sony</td>\n",
              "      <td>8260000.0</td>\n",
              "    </tr>\n",
              "    <tr>\n",
              "      <th>48</th>\n",
              "      <td>2014</td>\n",
              "      <td>anual</td>\n",
              "      <td>Sony PS3</td>\n",
              "      <td>Sony</td>\n",
              "      <td>3560000.0</td>\n",
              "    </tr>\n",
              "    <tr>\n",
              "      <th>49</th>\n",
              "      <td>2015</td>\n",
              "      <td>anual</td>\n",
              "      <td>Sony PS3</td>\n",
              "      <td>Sony</td>\n",
              "      <td>1340000.0</td>\n",
              "    </tr>\n",
              "    <tr>\n",
              "      <th>50</th>\n",
              "      <td>2016</td>\n",
              "      <td>anual</td>\n",
              "      <td>Sony PS3</td>\n",
              "      <td>Sony</td>\n",
              "      <td>520000.0</td>\n",
              "    </tr>\n",
              "    <tr>\n",
              "      <th>51</th>\n",
              "      <td>2017</td>\n",
              "      <td>anual</td>\n",
              "      <td>Sony PS3</td>\n",
              "      <td>Sony</td>\n",
              "      <td>110000.0</td>\n",
              "    </tr>\n",
              "    <tr>\n",
              "      <th>52</th>\n",
              "      <td>2018</td>\n",
              "      <td>Out_of_use</td>\n",
              "      <td>Sony PS3</td>\n",
              "      <td>Sony</td>\n",
              "      <td>-77730000.0</td>\n",
              "    </tr>\n",
              "    <tr>\n",
              "      <th>53</th>\n",
              "      <td>2013</td>\n",
              "      <td>anual</td>\n",
              "      <td>Sony PS4</td>\n",
              "      <td>Sony</td>\n",
              "      <td>4490000.0</td>\n",
              "    </tr>\n",
              "    <tr>\n",
              "      <th>54</th>\n",
              "      <td>2014</td>\n",
              "      <td>anual</td>\n",
              "      <td>Sony PS4</td>\n",
              "      <td>Sony</td>\n",
              "      <td>14590000.0</td>\n",
              "    </tr>\n",
              "    <tr>\n",
              "      <th>55</th>\n",
              "      <td>2015</td>\n",
              "      <td>anual</td>\n",
              "      <td>Sony PS4</td>\n",
              "      <td>Sony</td>\n",
              "      <td>17510000.0</td>\n",
              "    </tr>\n",
              "    <tr>\n",
              "      <th>56</th>\n",
              "      <td>2016</td>\n",
              "      <td>anual</td>\n",
              "      <td>Sony PS4</td>\n",
              "      <td>Sony</td>\n",
              "      <td>17590000.0</td>\n",
              "    </tr>\n",
              "    <tr>\n",
              "      <th>57</th>\n",
              "      <td>2017</td>\n",
              "      <td>anual</td>\n",
              "      <td>Sony PS4</td>\n",
              "      <td>Sony</td>\n",
              "      <td>19640000.0</td>\n",
              "    </tr>\n",
              "    <tr>\n",
              "      <th>58</th>\n",
              "      <td>2018</td>\n",
              "      <td>anual</td>\n",
              "      <td>Sony PS4</td>\n",
              "      <td>Sony</td>\n",
              "      <td>18000000.0</td>\n",
              "    </tr>\n",
              "    <tr>\n",
              "      <th>59</th>\n",
              "      <td>2008</td>\n",
              "      <td>anual</td>\n",
              "      <td>Sony PSP</td>\n",
              "      <td>Sony</td>\n",
              "      <td>14050000.0</td>\n",
              "    </tr>\n",
              "    <tr>\n",
              "      <th>60</th>\n",
              "      <td>2009</td>\n",
              "      <td>anual</td>\n",
              "      <td>Sony PSP</td>\n",
              "      <td>Sony</td>\n",
              "      <td>9920000.0</td>\n",
              "    </tr>\n",
              "    <tr>\n",
              "      <th>61</th>\n",
              "      <td>2010</td>\n",
              "      <td>anual</td>\n",
              "      <td>Sony PSP</td>\n",
              "      <td>Sony</td>\n",
              "      <td>9360000.0</td>\n",
              "    </tr>\n",
              "    <tr>\n",
              "      <th>62</th>\n",
              "      <td>2011</td>\n",
              "      <td>anual</td>\n",
              "      <td>Sony PSP</td>\n",
              "      <td>Sony</td>\n",
              "      <td>7380000.0</td>\n",
              "    </tr>\n",
              "    <tr>\n",
              "      <th>63</th>\n",
              "      <td>2012</td>\n",
              "      <td>anual</td>\n",
              "      <td>Sony PSP</td>\n",
              "      <td>Sony</td>\n",
              "      <td>4220000.0</td>\n",
              "    </tr>\n",
              "    <tr>\n",
              "      <th>64</th>\n",
              "      <td>2013</td>\n",
              "      <td>anual</td>\n",
              "      <td>Sony PSP</td>\n",
              "      <td>Sony</td>\n",
              "      <td>2970000.0</td>\n",
              "    </tr>\n",
              "    <tr>\n",
              "      <th>65</th>\n",
              "      <td>2014</td>\n",
              "      <td>anual</td>\n",
              "      <td>Sony PSP</td>\n",
              "      <td>Sony</td>\n",
              "      <td>390000.0</td>\n",
              "    </tr>\n",
              "    <tr>\n",
              "      <th>66</th>\n",
              "      <td>2015</td>\n",
              "      <td>Out_of_use</td>\n",
              "      <td>Sony PSP</td>\n",
              "      <td>Sony</td>\n",
              "      <td>-48290000.0</td>\n",
              "    </tr>\n",
              "    <tr>\n",
              "      <th>67</th>\n",
              "      <td>2013</td>\n",
              "      <td>anual</td>\n",
              "      <td>Xbox One</td>\n",
              "      <td>Microsoft</td>\n",
              "      <td>3080000.0</td>\n",
              "    </tr>\n",
              "    <tr>\n",
              "      <th>68</th>\n",
              "      <td>2014</td>\n",
              "      <td>anual</td>\n",
              "      <td>Xbox One</td>\n",
              "      <td>Microsoft</td>\n",
              "      <td>7910000.0</td>\n",
              "    </tr>\n",
              "    <tr>\n",
              "      <th>69</th>\n",
              "      <td>2015</td>\n",
              "      <td>anual</td>\n",
              "      <td>Xbox One</td>\n",
              "      <td>Microsoft</td>\n",
              "      <td>8630000.0</td>\n",
              "    </tr>\n",
              "    <tr>\n",
              "      <th>70</th>\n",
              "      <td>2016</td>\n",
              "      <td>anual</td>\n",
              "      <td>Xbox One</td>\n",
              "      <td>Microsoft</td>\n",
              "      <td>8370000.0</td>\n",
              "    </tr>\n",
              "    <tr>\n",
              "      <th>71</th>\n",
              "      <td>2017</td>\n",
              "      <td>anual</td>\n",
              "      <td>Xbox One</td>\n",
              "      <td>Microsoft</td>\n",
              "      <td>8210000.0</td>\n",
              "    </tr>\n",
              "    <tr>\n",
              "      <th>72</th>\n",
              "      <td>2018</td>\n",
              "      <td>anual</td>\n",
              "      <td>Xbox One</td>\n",
              "      <td>Microsoft</td>\n",
              "      <td>6960000.0</td>\n",
              "    </tr>\n",
              "    <tr>\n",
              "      <th>73</th>\n",
              "      <td>2008</td>\n",
              "      <td>anual</td>\n",
              "      <td>Xbox360</td>\n",
              "      <td>Microsoft</td>\n",
              "      <td>11160000.0</td>\n",
              "    </tr>\n",
              "    <tr>\n",
              "      <th>74</th>\n",
              "      <td>2009</td>\n",
              "      <td>anual</td>\n",
              "      <td>Xbox360</td>\n",
              "      <td>Microsoft</td>\n",
              "      <td>10360000.0</td>\n",
              "    </tr>\n",
              "    <tr>\n",
              "      <th>75</th>\n",
              "      <td>2010</td>\n",
              "      <td>anual</td>\n",
              "      <td>Xbox360</td>\n",
              "      <td>Microsoft</td>\n",
              "      <td>13530000.0</td>\n",
              "    </tr>\n",
              "    <tr>\n",
              "      <th>76</th>\n",
              "      <td>2011</td>\n",
              "      <td>anual</td>\n",
              "      <td>Xbox360</td>\n",
              "      <td>Microsoft</td>\n",
              "      <td>13950000.0</td>\n",
              "    </tr>\n",
              "    <tr>\n",
              "      <th>77</th>\n",
              "      <td>2012</td>\n",
              "      <td>anual</td>\n",
              "      <td>Xbox360</td>\n",
              "      <td>Microsoft</td>\n",
              "      <td>10690000.0</td>\n",
              "    </tr>\n",
              "    <tr>\n",
              "      <th>78</th>\n",
              "      <td>2013</td>\n",
              "      <td>anual</td>\n",
              "      <td>Xbox360</td>\n",
              "      <td>Microsoft</td>\n",
              "      <td>6240000.0</td>\n",
              "    </tr>\n",
              "    <tr>\n",
              "      <th>79</th>\n",
              "      <td>2014</td>\n",
              "      <td>anual</td>\n",
              "      <td>Xbox360</td>\n",
              "      <td>Microsoft</td>\n",
              "      <td>2600000.0</td>\n",
              "    </tr>\n",
              "    <tr>\n",
              "      <th>80</th>\n",
              "      <td>2015</td>\n",
              "      <td>anual</td>\n",
              "      <td>Xbox360</td>\n",
              "      <td>Microsoft</td>\n",
              "      <td>930000.0</td>\n",
              "    </tr>\n",
              "    <tr>\n",
              "      <th>81</th>\n",
              "      <td>2016</td>\n",
              "      <td>anual</td>\n",
              "      <td>Xbox360</td>\n",
              "      <td>Microsoft</td>\n",
              "      <td>390000.0</td>\n",
              "    </tr>\n",
              "    <tr>\n",
              "      <th>82</th>\n",
              "      <td>2017</td>\n",
              "      <td>anual</td>\n",
              "      <td>Xbox360</td>\n",
              "      <td>Microsoft</td>\n",
              "      <td>60000.0</td>\n",
              "    </tr>\n",
              "    <tr>\n",
              "      <th>83</th>\n",
              "      <td>2018</td>\n",
              "      <td>Out_of_use</td>\n",
              "      <td>Xbox360</td>\n",
              "      <td>Microsoft</td>\n",
              "      <td>-69910000.0</td>\n",
              "    </tr>\n",
              "  </tbody>\n",
              "</table>\n",
              "</div>"
            ],
            "text/plain": [
              "    Year        Dato          Console    Company       Sales\n",
              "0   2011       anual     Nintendo 3DS   Nintendo  12560000.0\n",
              "1   2012       anual     Nintendo 3DS   Nintendo  13480000.0\n",
              "2   2013       anual     Nintendo 3DS   Nintendo  14310000.0\n",
              "3   2014       anual     Nintendo 3DS   Nintendo   9740000.0\n",
              "4   2015       anual     Nintendo 3DS   Nintendo   7330000.0\n",
              "5   2016       anual     Nintendo 3DS   Nintendo   7590000.0\n",
              "6   2017       anual     Nintendo 3DS   Nintendo   6190000.0\n",
              "7   2018       anual     Nintendo 3DS   Nintendo   3500000.0\n",
              "8   2008       anual      Nintendo DS   Nintendo  29470000.0\n",
              "9   2009       anual      Nintendo DS   Nintendo  27280000.0\n",
              "10  2010       anual      Nintendo DS   Nintendo  20550000.0\n",
              "11  2011       anual      Nintendo DS   Nintendo   8760000.0\n",
              "12  2012       anual      Nintendo DS   Nintendo   3010000.0\n",
              "13  2013       anual      Nintendo DS   Nintendo    820000.0\n",
              "14  2014  Out_of_use      Nintendo DS   Nintendo -89890000.0\n",
              "15  2017       anual  Nintendo Switch   Nintendo  11850000.0\n",
              "16  2018       anual  Nintendo Switch   Nintendo  17050000.0\n",
              "17  2008       anual     Nintendo Wii   Nintendo  24090000.0\n",
              "18  2009       anual     Nintendo Wii   Nintendo  21050000.0\n",
              "19  2010       anual     Nintendo Wii   Nintendo  17260000.0\n",
              "20  2011       anual     Nintendo Wii   Nintendo  11490000.0\n",
              "21  2012       anual     Nintendo Wii   Nintendo   5080000.0\n",
              "22  2013       anual     Nintendo Wii   Nintendo   1950000.0\n",
              "23  2014       anual     Nintendo Wii   Nintendo    520000.0\n",
              "24  2015       anual     Nintendo Wii   Nintendo     70000.0\n",
              "25  2016  Out_of_use     Nintendo Wii   Nintendo -81510000.0\n",
              "26  2012       anual   Nintendo Wii U   Nintendo   2170000.0\n",
              "27  2013       anual   Nintendo Wii U   Nintendo   3100000.0\n",
              "28  2014       anual   Nintendo Wii U   Nintendo   3640000.0\n",
              "29  2015       anual   Nintendo Wii U   Nintendo   3460000.0\n",
              "30  2016       anual   Nintendo Wii U   Nintendo   1160000.0\n",
              "31  2017       anual   Nintendo Wii U   Nintendo    100000.0\n",
              "32  2018  Out_of_use   Nintendo Wii U   Nintendo -13630000.0\n",
              "33  2011       anual     Sony PS Vita       Sony    480000.0\n",
              "34  2012       anual     Sony PS Vita       Sony   3690000.0\n",
              "35  2013       anual     Sony PS Vita       Sony   3400000.0\n",
              "36  2014       anual     Sony PS Vita       Sony   2300000.0\n",
              "37  2015       anual     Sony PS Vita       Sony   2680000.0\n",
              "38  2016       anual     Sony PS Vita       Sony   2040000.0\n",
              "39  2017       anual     Sony PS Vita       Sony    720000.0\n",
              "40  2018       anual     Sony PS Vita       Sony    220000.0\n",
              "41  2018  Out_of_use     Sony PS Vita       Sony -15530000.0\n",
              "42  2008       anual         Sony PS3       Sony  10460000.0\n",
              "43  2009       anual         Sony PS3       Sony  13260000.0\n",
              "44  2010       anual         Sony PS3       Sony  13830000.0\n",
              "45  2011       anual         Sony PS3       Sony  14420000.0\n",
              "46  2012       anual         Sony PS3       Sony  11970000.0\n",
              "47  2013       anual         Sony PS3       Sony   8260000.0\n",
              "48  2014       anual         Sony PS3       Sony   3560000.0\n",
              "49  2015       anual         Sony PS3       Sony   1340000.0\n",
              "50  2016       anual         Sony PS3       Sony    520000.0\n",
              "51  2017       anual         Sony PS3       Sony    110000.0\n",
              "52  2018  Out_of_use         Sony PS3       Sony -77730000.0\n",
              "53  2013       anual         Sony PS4       Sony   4490000.0\n",
              "54  2014       anual         Sony PS4       Sony  14590000.0\n",
              "55  2015       anual         Sony PS4       Sony  17510000.0\n",
              "56  2016       anual         Sony PS4       Sony  17590000.0\n",
              "57  2017       anual         Sony PS4       Sony  19640000.0\n",
              "58  2018       anual         Sony PS4       Sony  18000000.0\n",
              "59  2008       anual         Sony PSP       Sony  14050000.0\n",
              "60  2009       anual         Sony PSP       Sony   9920000.0\n",
              "61  2010       anual         Sony PSP       Sony   9360000.0\n",
              "62  2011       anual         Sony PSP       Sony   7380000.0\n",
              "63  2012       anual         Sony PSP       Sony   4220000.0\n",
              "64  2013       anual         Sony PSP       Sony   2970000.0\n",
              "65  2014       anual         Sony PSP       Sony    390000.0\n",
              "66  2015  Out_of_use         Sony PSP       Sony -48290000.0\n",
              "67  2013       anual         Xbox One  Microsoft   3080000.0\n",
              "68  2014       anual         Xbox One  Microsoft   7910000.0\n",
              "69  2015       anual         Xbox One  Microsoft   8630000.0\n",
              "70  2016       anual         Xbox One  Microsoft   8370000.0\n",
              "71  2017       anual         Xbox One  Microsoft   8210000.0\n",
              "72  2018       anual         Xbox One  Microsoft   6960000.0\n",
              "73  2008       anual          Xbox360  Microsoft  11160000.0\n",
              "74  2009       anual          Xbox360  Microsoft  10360000.0\n",
              "75  2010       anual          Xbox360  Microsoft  13530000.0\n",
              "76  2011       anual          Xbox360  Microsoft  13950000.0\n",
              "77  2012       anual          Xbox360  Microsoft  10690000.0\n",
              "78  2013       anual          Xbox360  Microsoft   6240000.0\n",
              "79  2014       anual          Xbox360  Microsoft   2600000.0\n",
              "80  2015       anual          Xbox360  Microsoft    930000.0\n",
              "81  2016       anual          Xbox360  Microsoft    390000.0\n",
              "82  2017       anual          Xbox360  Microsoft     60000.0\n",
              "83  2018  Out_of_use          Xbox360  Microsoft -69910000.0"
            ]
          },
          "execution_count": 7,
          "metadata": {},
          "output_type": "execute_result"
        }
      ],
      "source": [
        "# Mostrar todo el DataFrame df_2\n",
        "pd.set_option('display.max_rows', None)  # Mostrar todas las filas\n",
        "\n",
        "df_2"
      ]
    },
    {
      "cell_type": "code",
      "execution_count": 8,
      "metadata": {
        "id": "cs0J-OIX_0zn",
        "outputId": "e69bc7d5-69a5-49cf-fc0e-5bf0b394f473"
      },
      "outputs": [
        {
          "data": {
            "image/png": "[encoded data removed]",
            "text/plain": [
              "<Figure size 1400x800 with 1 Axes>"
            ]
          },
          "metadata": {},
          "output_type": "display_data"
        }
      ],
      "source": [
        "# Crear el histograma solo para 'Sales'\n",
        "plt.figure(figsize=(14, 8))\n",
        "plt.hist(df_2['Sales'], bins=50, color='#474559', edgecolor='white')\n",
        "plt.title('Histograma de Sales')\n",
        "plt.xlabel('Sales')\n",
        "plt.ylabel('Frecuencia')\n",
        "plt.show()"
      ]
    },
    {
      "cell_type": "markdown",
      "metadata": {
        "id": "PDpEZi1q_0zo"
      },
      "source": [
        "Observaciones:\n",
        "* se observa que los valores negativos en la columna Sales corresponden a valores Out_of_use, y se eliminan por considerarse atípicos y que no aportan a un análisis de inversiones."
      ]
    },
    {
      "cell_type": "code",
      "execution_count": 10,
      "metadata": {
        "id": "2U6t7wUH_0zo"
      },
      "outputs": [],
      "source": [
        "df_2 = df_2[df_2['Sales'] >= 0]"
      ]
    },
    {
      "cell_type": "code",
      "execution_count": 11,
      "metadata": {
        "id": "AyXnMlKW_0zp",
        "outputId": "7037d3ca-f0f0-49a3-8e22-7707be9c6dd2"
      },
      "outputs": [
        {
          "data": {
            "image/png": "[encoded data removed]",
            "text/plain": [
              "<Figure size 1000x500 with 1 Axes>"
            ]
          },
          "metadata": {},
          "output_type": "display_data"
        }
      ],
      "source": [
        "# Crear el histograma solo para 'Sales'\n",
        "plt.figure(figsize=(10, 5))\n",
        "plt.hist(df_2['Sales'], bins=10, color='#474559', edgecolor='white')\n",
        "plt.title('Histograma de Sales')\n",
        "plt.xlabel('Sales')\n",
        "plt.ylabel('Frecuencia')\n",
        "plt.show()"
      ]
    },
    {
      "cell_type": "code",
      "execution_count": 12,
      "metadata": {
        "id": "6mousz4E_0zq",
        "outputId": "3dcdc4a3-f0bc-428f-fd4c-f944668300ad"
      },
      "outputs": [
        {
          "data": {
            "image/png": "[encoded data removed]",
            "text/plain": [
              "<Figure size 1400x200 with 1 Axes>"
            ]
          },
          "metadata": {},
          "output_type": "display_data"
        }
      ],
      "source": [
        "# Crear el boxplot para 'Sales' en vertical\n",
        "plt.figure(figsize=(14, 2))\n",
        "plt.boxplot(df_2['Sales'], vert=False, patch_artist=True, boxprops=dict(facecolor='#474559', color='white'))\n",
        "plt.title('Boxplot de Sales')\n",
        "plt.ylabel('Sales')\n",
        "plt.show()"
      ]
    },
    {
      "cell_type": "markdown",
      "metadata": {
        "id": "mBtypmSt_0zx"
      },
      "source": [
        "Observaciones:\n",
        "* Se observa que la mediana de Sales es de 7 millones usd. Hasta 15 millones usd parece probable. Son pocos los casos donde se superan los 20 millones usd.\n",
        "* Se observan valores outliers pero dentro de la distribución desgada.\n",
        "* Year_of_Release tiene distribucación sesgada hacia la izquierda lo que quiere decir que la producción de juegos ha ido en aumento.\n",
        "* Las restantes columnas de Sales tienen distribución sesgada hacia la derecha, lo que quiere decir que la mediana de ventas es de valor entre 0 y 1, pero hay muchos valores dispersos, y cuanto más te alejas menos valores encuentras. Es decir, es dificil lograr grandes ventas en un juego."
      ]
    },
    {
      "cell_type": "markdown",
      "metadata": {},
      "source": [
        "#### 4. Análisis de tendencia "
      ]
    },
    {
      "cell_type": "code",
      "execution_count": 13,
      "metadata": {
        "id": "fwnEfylx_0zy",
        "outputId": "eb33387c-d9a3-4171-a737-a3097447a96f"
      },
      "outputs": [
        {
          "data": {
            "image/png": "[encoded data removed]",
            "text/plain": [
              "<Figure size 1200x600 with 1 Axes>"
            ]
          },
          "metadata": {},
          "output_type": "display_data"
        }
      ],
      "source": [
        "# Sumar las ventas por año para cada compañía\n",
        "df_2_sum = df_2.groupby(['Year', 'Company'])['Sales'].sum().reset_index()\n",
        "\n",
        "# Gráfico de tendencia de ventas por compañía\n",
        "plt.figure(figsize=(12, 6))\n",
        "for company in df_2_sum['Company'].unique():\n",
        "    company_data = df_2_sum[df_2_sum['Company'] == company]\n",
        "    plt.plot(company_data['Year'], company_data['Sales'], marker='o', label=company)\n",
        "\n",
        "# Añadir etiquetas y título\n",
        "plt.xlabel('Año')\n",
        "plt.ylabel('Ventas')\n",
        "plt.title('Tendencia de Ventas por Compañía')\n",
        "plt.legend()\n",
        "\n",
        "# Mostrar el gráfico\n",
        "plt.grid(True)\n",
        "plt.show()"
      ]
    },
    {
      "cell_type": "markdown",
      "metadata": {
        "id": "YJobeRHT_0zz"
      },
      "source": [
        "Observaciones:\n",
        "* Se ha representado la suma total de ventas por año.\n",
        "* Se observa que Nintendo era con diferencia el protagonista en 2008 pero ha caído mucho hasta el 2016, acercándose a Microsoft.\n",
        "* Tanto Microsoft como Sony se han mantenido prácticamente descendiendo pero de forma mucho menos pronunciada.\n",
        "* La conclusión desde el 2008 al 2018 es que las ventas por Consola están descendiendo, quizás, por un cambio hacia otros tipos de formas de jugar."
      ]
    },
    {
      "cell_type": "code",
      "execution_count": null,
      "metadata": {
        "id": "D47fUffx_0zz",
        "outputId": "a23c7ffd-6f8f-453c-d312-0d3bda834fb6"
      },
      "outputs": [
        {
          "data": {
            "image/png": "[encoded data removed]",
            "text/plain": [
              "<Figure size 1200x600 with 1 Axes>"
            ]
          },
          "metadata": {},
          "output_type": "display_data"
        }
      ],
      "source": [
        "# Seleccionar las consolas que deseas visualizar\n",
        "selected_consoles = ['Nintendo 3DS', 'Nintendo DS', 'Nintendo Switch', 'Nintendo Wii',\n",
        "                     'Nintendo Wii U', 'Sony PS Vita', 'Sony PS3', 'Sony PS4', 'Sony PSP',\n",
        "                     'Xbox One', 'Xbox360']\n",
        "\n",
        "# Colores variados para las líneas\n",
        "colors = plt.cm.get_cmap('tab20', len(selected_consoles))\n",
        "\n",
        "# Gráfico de tendencia de ventas por consola\n",
        "plt.figure(figsize=(12, 6))\n",
        "for idx, console in enumerate(selected_consoles):\n",
        "    console_data = df_2[df_2['Console'] == console]\n",
        "    if not console_data.empty:  # Asegurarse de que hay datos para la consola seleccionada\n",
        "        plt.plot(console_data['Year'], console_data['Sales'], marker='o', label=console, color=colors(idx))\n",
        "\n",
        "# Añadir etiquetas y título\n",
        "plt.xlabel('Año')\n",
        "plt.ylabel('Ventas')\n",
        "plt.title('Tendencia de Ventas por Consola')\n",
        "plt.legend()\n",
        "\n",
        "# Mostrar el gráfico\n",
        "plt.grid(True)\n",
        "plt.show()"
      ]
    },
    {
      "cell_type": "markdown",
      "metadata": {
        "id": "NeO7IBj7_0z0"
      },
      "source": [
        "Observaciones:\n",
        "+ Se observa que prácticamente todas las consolas tienen su período de bonanza entre 3 y 5 años y luego comienza el retroceso de ventas y hay que sacar otra consola al mercado.\n",
        "+ Se observa que solo Nintendo Switch, Sony PS4 y Xbox One pero esto sucedió durante los últimos 5 años, harbía que ver la evolución.\n",
        "+ Se observa que solo Nintendo Switch parece incrementar las ventas en la compañia Nintendo, en tanto que Wii y DS fueron consolas con muchas ventas pero decayeron rápidamente a casi 0.\n",
        "+ Hay consolas con pocas ventas como Nintendo Wii U y  Sony PS Vita."
      ]
    },
    {
      "cell_type": "code",
      "execution_count": 15,
      "metadata": {
        "id": "BMRPiHJg_0z1",
        "outputId": "f4673799-3f16-4df4-c42a-ad260c17af5e"
      },
      "outputs": [
        {
          "data": {
            "image/png": "[encoded data removed]",
            "text/plain": [
              "<Figure size 1200x600 with 1 Axes>"
            ]
          },
          "metadata": {},
          "output_type": "display_data"
        }
      ],
      "source": [
        "# Sumar las ventas por año para cada compañía\n",
        "df_2_sum = df_2.groupby(['Year', 'Company'])['Sales'].sum().reset_index()\n",
        "\n",
        "# Gráfico de tendencia de ventas por compañía\n",
        "plt.figure(figsize=(12, 6))\n",
        "for company in df_2_sum['Company'].unique():\n",
        "    company_data = df_2_sum[df_2_sum['Company'] == company]\n",
        "    plt.plot(company_data['Year'], company_data['Sales'], marker='o', label=company)\n",
        "\n",
        "# Añadir etiquetas y título\n",
        "plt.xlabel('Año')\n",
        "plt.ylabel('Ventas')\n",
        "plt.title('Tendencia de Ventas por Compañía')\n",
        "plt.legend()\n",
        "\n",
        "# Mostrar el gráfico\n",
        "plt.grid(True)\n",
        "plt.show()"
      ]
    },
    {
      "cell_type": "markdown",
      "metadata": {
        "id": "YtQMNoxB_0z1"
      },
      "source": [
        "#### 5. Análisis de correlación entre variables"
      ]
    },
    {
      "cell_type": "code",
      "execution_count": 16,
      "metadata": {
        "id": "kqCxGru1_0z2",
        "outputId": "1ddd0f06-13c6-49a9-eb4c-ae3171f581f8"
      },
      "outputs": [
        {
          "data": {
            "text/plain": [
              "Index(['Year', 'Dato', 'Console', 'Company', 'Sales'], dtype='object')"
            ]
          },
          "execution_count": 16,
          "metadata": {},
          "output_type": "execute_result"
        }
      ],
      "source": [
        "df_2.columns"
      ]
    },
    {
      "cell_type": "code",
      "execution_count": 17,
      "metadata": {
        "id": "LaM0IJhq_0z2"
      },
      "outputs": [],
      "source": [
        "uniq_com_df_2 = df_2['Company'].unique()\n",
        "uniq_con_df_2 = df_2['Console'].unique()"
      ]
    },
    {
      "cell_type": "code",
      "execution_count": 18,
      "metadata": {
        "id": "OzxItcN__0z3",
        "outputId": "41f9b59f-8842-4ebd-f96f-0860382ab1e3"
      },
      "outputs": [
        {
          "name": "stdout",
          "output_type": "stream",
          "text": [
            "Columnas únicas en \"Company\" ['Nintendo' 'Sony' 'Microsoft']\n",
            "Columnas únicas en \"Console\" ['Nintendo 3DS' 'Nintendo DS' 'Nintendo Switch' 'Nintendo Wii'\n",
            " 'Nintendo Wii U' 'Sony PS Vita' 'Sony PS3' 'Sony PS4' 'Sony PSP'\n",
            " 'Xbox One' 'Xbox360']\n"
          ]
        }
      ],
      "source": [
        "print('Columnas únicas en \"Company\"', uniq_com_df_2)\n",
        "print('Columnas únicas en \"Console\"', uniq_con_df_2)"
      ]
    },
    {
      "cell_type": "code",
      "execution_count": 19,
      "metadata": {
        "id": "wxs2Z4Au_0z3",
        "outputId": "b7c25dca-2d51-413a-c6b9-c78ac9333287"
      },
      "outputs": [
        {
          "name": "stdout",
          "output_type": "stream",
          "text": [
            "Correlaciones con 'Sales':\n",
            " Company_Microsoft   -0.087009\n",
            "Company_Nintendo     0.157865\n",
            "Company_Sony        -0.084994\n",
            "Name: Sales, dtype: float64\n"
          ]
        }
      ],
      "source": [
        "# Filtrar las columnas deseadas\n",
        "col_df_2 = ['Company', 'Sales']\n",
        "df_2_clean = df_2[col_df_2]\n",
        "\n",
        "# Codificación One-Hot para la columna 'Company' sin eliminar ninguna categoría\n",
        "df_2_clean_encoded = pd.get_dummies(df_2_clean, columns=['Company'])\n",
        "\n",
        "# Calcular la correlación entre las variables codificadas y 'Sales'\n",
        "correlation_matrix = df_2_clean_encoded.corr()\n",
        "\n",
        "# Extraer las correlaciones con 'Sales'\n",
        "sales_correlation = correlation_matrix['Sales'].drop('Sales')\n",
        "print(\"Correlaciones con 'Sales':\\n\", sales_correlation)"
      ]
    },
    {
      "cell_type": "code",
      "execution_count": 20,
      "metadata": {
        "id": "k-JWwF8x_0z3",
        "outputId": "7bda0dba-6170-4506-dc90-627891a46f27"
      },
      "outputs": [
        {
          "name": "stdout",
          "output_type": "stream",
          "text": [
            "Correlaciones con 'Sales':\n",
            " Console_Nintendo 3DS       0.053392\n",
            "Console_Nintendo DS        0.281655\n",
            "Console_Nintendo Switch    0.145726\n",
            "Console_Nintendo Wii       0.095096\n",
            "Console_Nintendo Wii U    -0.249951\n",
            "Console_Sony PS Vita      -0.308959\n",
            "Console_Sony PS3          -0.026384\n",
            "Console_Sony PS4           0.295109\n",
            "Console_Sony PSP          -0.061382\n",
            "Console_Xbox One          -0.044098\n",
            "Console_Xbox360           -0.069852\n",
            "Name: Sales, dtype: float64\n"
          ]
        }
      ],
      "source": [
        "# Filtrar las columnas deseadas\n",
        "col_df_2 = ['Console', 'Sales']\n",
        "df_2_clean = df_2[col_df_2]\n",
        "\n",
        "# Codificación One-Hot para la columna 'Console' sin eliminar ninguna categoría\n",
        "df_2_clean_encoded = pd.get_dummies(df_2_clean, columns=['Console'])\n",
        "\n",
        "# Calcular la correlación entre las variables codificadas y 'Sales'\n",
        "correlation_matrix = df_2_clean_encoded.corr()\n",
        "\n",
        "# Extraer las correlaciones con 'Sales'\n",
        "sales_correlation = correlation_matrix['Sales'].drop('Sales')\n",
        "print(\"Correlaciones con 'Sales':\\n\", sales_correlation)"
      ]
    },
    {
      "cell_type": "markdown",
      "metadata": {
        "id": "q_54vqIY_0z3"
      },
      "source": [
        "Observaciones:\n",
        "* Se ha realizado un encoding para las variables categóricas comparando con Sales, para identificar si existen algunas correlaciones positivas o negativas.\n",
        "* Se observa que solo Nintendo tiene correlación positiva con las Ventas, igual a 0.16, destacando que Nintendo ha sido la protagonista.\n",
        "* Se observa que existen solo dos grandes destacados, uno de Sony y otro de Nintendo:\n",
        "  * Nintendo DS, con una correlación positiva de 0.28.\n",
        "  * Sony PS4 con una correlación positiva de 0.29.\n",
        "* A la vez también se observa que tanto Nintendo como Sony tienen consolas con correlaciones muy negativas:\n",
        "  * Ninentndo WII U tiene una correlación negativa de -0.25.\n",
        "  * Sony PS Vita tiene una correlación negativa de -0.31.\n",
        "* Microsoft tiene correlaciones prácticamente neutras y solo 2 modelos."
      ]
    },
    {
      "cell_type": "markdown",
      "metadata": {
        "id": "9qeDqAtr_0z6"
      },
      "source": [
        "#### 6. Análisis de duplicados"
      ]
    },
    {
      "cell_type": "code",
      "execution_count": 21,
      "metadata": {
        "id": "EOk66Lhe_0z6",
        "outputId": "27304066-ff75-4321-a84d-c3cbefffddf1"
      },
      "outputs": [
        {
          "name": "stdout",
          "output_type": "stream",
          "text": [
            "Filas duplicadas:\n",
            "Empty DataFrame\n",
            "Columns: [Year, Dato, Console, Company, Sales]\n",
            "Index: []\n",
            "Numero de filas duplicadas: 0\n",
            "No se encuentran duplicadas en el dataframe df_2\n"
          ]
        }
      ],
      "source": [
        "# Identificar duplicados\n",
        "duplicated_rows_2 = df_2.duplicated()\n",
        "\n",
        "# Mostrar filas duplicadas\n",
        "print(\"Filas duplicadas:\")\n",
        "print(df_2[duplicated_rows_2])\n",
        "\n",
        "# Contar el número de filas duplicadas\n",
        "num_duplicated_rows_2 = duplicated_rows_2.sum()\n",
        "\n",
        "print(f\"Numero de filas duplicadas: {num_duplicated_rows_2}\")\n",
        "\n",
        "if num_duplicated_rows_2 == 0:\n",
        "    print('No se encuentran duplicadas en el dataframe df_2')"
      ]
    },
    {
      "cell_type": "markdown",
      "metadata": {
        "id": "sC7ehmBd_0z7"
      },
      "source": [
        "#### 7. Exportación de los DataFrames"
      ]
    },
    {
      "cell_type": "code",
      "execution_count": 22,
      "metadata": {
        "id": "m6szluCP_0z7"
      },
      "outputs": [],
      "source": [
        "df_2.to_csv('dataset_clean/Consolas.csv', index=False)"
      ]
    },
    {
      "cell_type": "markdown",
      "metadata": {
        "id": "VXMCbFBu_0z7"
      },
      "source": [
        "#### 8. Conclusiones:\n",
        "+ Las ventas de consolas están disminuyendo desde el 2008 al 2018.\n",
        "+ Las ventas de consolas son cíclicas, cuando salen repuntan ventas hasta que se vuelven obsoletas en 3 a 5 años.\n",
        "+ Las ventas dependen de la consola nueva que salga, a veces, salen nuevas y tiene buena recepción, y a veces, no. \n",
        "+ Nintengo tenía gran parte del mercado y lo fue perdiendo.\n",
        "+ Tanto Microsoft como Sony han logrado mantener medianamente las ventas.\n",
        "+ Considerando las correlaciones, no existe multicolinealidad."
      ]
    }
  ],
  "metadata": {
    "colab": {
      "provenance": []
    },
    "kernelspec": {
      "display_name": "venv",
      "language": "python",
      "name": "python3"
    },
    "language_info": {
      "codemirror_mode": {
        "name": "ipython",
        "version": 3
      },
      "file_extension": ".py",
      "mimetype": "text/x-python",
      "name": "python",
      "nbconvert_exporter": "python",
      "pygments_lexer": "ipython3",
      "version": "3.11.5"
    }
  },
  "nbformat": 4,
  "nbformat_minor": 0
}
